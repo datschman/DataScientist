{
 "cells": [
  {
   "cell_type": "markdown",
   "metadata": {},
   "source": [
    "***Data Set 1 : Exploration***\n",
    "https://www.kaggle.com/datasets/henryshan/2023-data-scientists-salary/data"
   ]
  },
  {
   "cell_type": "markdown",
   "metadata": {},
   "source": [
    "General Info"
   ]
  },
  {
   "cell_type": "code",
   "execution_count": 171,
   "metadata": {},
   "outputs": [
    {
     "data": {
      "text/html": [
       "<div>\n",
       "<style scoped>\n",
       "    .dataframe tbody tr th:only-of-type {\n",
       "        vertical-align: middle;\n",
       "    }\n",
       "\n",
       "    .dataframe tbody tr th {\n",
       "        vertical-align: top;\n",
       "    }\n",
       "\n",
       "    .dataframe thead th {\n",
       "        text-align: right;\n",
       "    }\n",
       "</style>\n",
       "<table border=\"1\" class=\"dataframe\">\n",
       "  <thead>\n",
       "    <tr style=\"text-align: right;\">\n",
       "      <th></th>\n",
       "      <th>work_year</th>\n",
       "      <th>experience_level</th>\n",
       "      <th>employment_type</th>\n",
       "      <th>job_title</th>\n",
       "      <th>salary</th>\n",
       "      <th>salary_currency</th>\n",
       "      <th>salary_in_usd</th>\n",
       "      <th>employee_residence</th>\n",
       "      <th>remote_ratio</th>\n",
       "      <th>company_location</th>\n",
       "      <th>company_size</th>\n",
       "    </tr>\n",
       "  </thead>\n",
       "  <tbody>\n",
       "    <tr>\n",
       "      <th>0</th>\n",
       "      <td>2023</td>\n",
       "      <td>SE</td>\n",
       "      <td>FT</td>\n",
       "      <td>Principal Data Scientist</td>\n",
       "      <td>80000</td>\n",
       "      <td>EUR</td>\n",
       "      <td>85847</td>\n",
       "      <td>ES</td>\n",
       "      <td>100</td>\n",
       "      <td>ES</td>\n",
       "      <td>L</td>\n",
       "    </tr>\n",
       "    <tr>\n",
       "      <th>1</th>\n",
       "      <td>2023</td>\n",
       "      <td>MI</td>\n",
       "      <td>CT</td>\n",
       "      <td>ML Engineer</td>\n",
       "      <td>30000</td>\n",
       "      <td>USD</td>\n",
       "      <td>30000</td>\n",
       "      <td>US</td>\n",
       "      <td>100</td>\n",
       "      <td>US</td>\n",
       "      <td>S</td>\n",
       "    </tr>\n",
       "    <tr>\n",
       "      <th>2</th>\n",
       "      <td>2023</td>\n",
       "      <td>MI</td>\n",
       "      <td>CT</td>\n",
       "      <td>ML Engineer</td>\n",
       "      <td>25500</td>\n",
       "      <td>USD</td>\n",
       "      <td>25500</td>\n",
       "      <td>US</td>\n",
       "      <td>100</td>\n",
       "      <td>US</td>\n",
       "      <td>S</td>\n",
       "    </tr>\n",
       "    <tr>\n",
       "      <th>3</th>\n",
       "      <td>2023</td>\n",
       "      <td>SE</td>\n",
       "      <td>FT</td>\n",
       "      <td>Data Scientist</td>\n",
       "      <td>175000</td>\n",
       "      <td>USD</td>\n",
       "      <td>175000</td>\n",
       "      <td>CA</td>\n",
       "      <td>100</td>\n",
       "      <td>CA</td>\n",
       "      <td>M</td>\n",
       "    </tr>\n",
       "    <tr>\n",
       "      <th>4</th>\n",
       "      <td>2023</td>\n",
       "      <td>SE</td>\n",
       "      <td>FT</td>\n",
       "      <td>Data Scientist</td>\n",
       "      <td>120000</td>\n",
       "      <td>USD</td>\n",
       "      <td>120000</td>\n",
       "      <td>CA</td>\n",
       "      <td>100</td>\n",
       "      <td>CA</td>\n",
       "      <td>M</td>\n",
       "    </tr>\n",
       "  </tbody>\n",
       "</table>\n",
       "</div>"
      ],
      "text/plain": [
       "   work_year experience_level employment_type                 job_title  \\\n",
       "0       2023               SE              FT  Principal Data Scientist   \n",
       "1       2023               MI              CT               ML Engineer   \n",
       "2       2023               MI              CT               ML Engineer   \n",
       "3       2023               SE              FT            Data Scientist   \n",
       "4       2023               SE              FT            Data Scientist   \n",
       "\n",
       "   salary salary_currency  salary_in_usd employee_residence  remote_ratio  \\\n",
       "0   80000             EUR          85847                 ES           100   \n",
       "1   30000             USD          30000                 US           100   \n",
       "2   25500             USD          25500                 US           100   \n",
       "3  175000             USD         175000                 CA           100   \n",
       "4  120000             USD         120000                 CA           100   \n",
       "\n",
       "  company_location company_size  \n",
       "0               ES            L  \n",
       "1               US            S  \n",
       "2               US            S  \n",
       "3               CA            M  \n",
       "4               CA            M  "
      ]
     },
     "execution_count": 171,
     "metadata": {},
     "output_type": "execute_result"
    }
   ],
   "source": [
    "import pandas as pd\n",
    "import matplotlib.pyplot as plt\n",
    "pd.options.display.max_columns = None\n",
    "\n",
    "data = pd.read_csv(\"../raw_data/ds_salaries.csv\")\n",
    "data.head()"
   ]
  },
  {
   "cell_type": "code",
   "execution_count": 172,
   "metadata": {},
   "outputs": [
    {
     "data": {
      "text/plain": [
       "work_year\n",
       "2023    1785\n",
       "2022    1664\n",
       "2021     230\n",
       "2020      76\n",
       "Name: count, dtype: int64"
      ]
     },
     "execution_count": 172,
     "metadata": {},
     "output_type": "execute_result"
    }
   ],
   "source": [
    "data.work_year.value_counts()"
   ]
  },
  {
   "cell_type": "code",
   "execution_count": 173,
   "metadata": {},
   "outputs": [
    {
     "data": {
      "text/plain": [
       "work_year              int64\n",
       "experience_level      object\n",
       "employment_type       object\n",
       "job_title             object\n",
       "salary                 int64\n",
       "salary_currency       object\n",
       "salary_in_usd          int64\n",
       "employee_residence    object\n",
       "remote_ratio           int64\n",
       "company_location      object\n",
       "company_size          object\n",
       "dtype: object"
      ]
     },
     "execution_count": 173,
     "metadata": {},
     "output_type": "execute_result"
    }
   ],
   "source": [
    "data.dtypes"
   ]
  },
  {
   "cell_type": "markdown",
   "metadata": {},
   "source": [
    "***Salaries***"
   ]
  },
  {
   "cell_type": "code",
   "execution_count": 174,
   "metadata": {},
   "outputs": [
    {
     "data": {
      "text/plain": [
       "135000.0"
      ]
     },
     "execution_count": 174,
     "metadata": {},
     "output_type": "execute_result"
    }
   ],
   "source": [
    "data [\"salary_in_usd\"].max() #Largest Salary 30Million\n",
    "top_10_salaries = data['salary_in_usd'].nlargest(10)\n",
    "top_10_salaries\n",
    "data [\"salary_in_usd\"].median() # median is 135000"
   ]
  },
  {
   "cell_type": "code",
   "execution_count": 175,
   "metadata": {},
   "outputs": [
    {
     "data": {
      "image/png": "[encoded data removed]",
      "text/plain": [
       "<Figure size 1000x600 with 1 Axes>"
      ]
     },
     "metadata": {},
     "output_type": "display_data"
    }
   ],
   "source": [
    "import seaborn as sns\n",
    "import matplotlib.pyplot as plt\n",
    "\n",
    "plt.figure(figsize=(10,6))\n",
    "sns.histplot(data[\"salary_in_usd\"], bins=15)\n",
    "plt.xticks(rotation=45)\n",
    "\n",
    "plt.title('Salary Distribution')\n",
    "plt.xlabel('Salaries in USD')\n",
    "plt.ylabel('Amount')\n",
    "\n",
    "plt.show()"
   ]
  },
  {
   "cell_type": "code",
   "execution_count": 176,
   "metadata": {},
   "outputs": [
    {
     "data": {
      "image/png": "[encoded data removed]",
      "text/plain": [
       "<Figure size 1000x600 with 1 Axes>"
      ]
     },
     "metadata": {},
     "output_type": "display_data"
    }
   ],
   "source": [
    "plt.figure(figsize=(10,6))\n",
    "sns.histplot(data[\"salary_in_usd\"], bins=15)\n",
    "plt.xticks(rotation=45)\n",
    "\n",
    "plt.title('Salary Distribution')\n",
    "plt.xlabel('Salaries in USD')\n",
    "plt.ylabel('Amount')\n",
    "\n",
    "plt.show()"
   ]
  },
  {
   "cell_type": "markdown",
   "metadata": {},
   "source": [
    "***Job Titles***"
   ]
  },
  {
   "cell_type": "code",
   "execution_count": 177,
   "metadata": {},
   "outputs": [
    {
     "name": "stdout",
     "output_type": "stream",
     "text": [
      "\n",
      "Cluster für 'Scientist':\n",
      "Principal Data Scientist\n",
      "Data Scientist\n",
      "Applied Scientist\n",
      "Research Scientist\n",
      "Applied Data Scientist\n",
      "Machine Learning Scientist\n",
      "AI Scientist\n",
      "Applied Machine Learning Scientist\n",
      "Lead Data Scientist\n",
      "Data Scientist Lead\n",
      "Product Data Scientist\n",
      "Staff Data Scientist\n",
      "\n",
      "Cluster für 'Machine':\n",
      "Machine Learning Engineer\n",
      "Applied Machine Learning Engineer\n",
      "Machine Learning Researcher\n",
      "Machine Learning Scientist\n",
      "Applied Machine Learning Scientist\n",
      "Machine Learning Infrastructure Engineer\n",
      "Machine Learning Software Engineer\n",
      "Machine Learning Research Engineer\n",
      "Machine Learning Developer\n",
      "Principal Machine Learning Engineer\n",
      "Machine Learning Manager\n",
      "Lead Machine Learning Engineer\n",
      "Head of Machine Learning\n",
      "\n",
      "Cluster für 'Analyst':\n",
      "Data Analyst\n",
      "Data Quality Analyst\n",
      "Compliance Data Analyst\n",
      "Business Data Analyst\n",
      "Staff Data Analyst\n",
      "Lead Data Analyst\n",
      "Financial Data Analyst\n",
      "BI Analyst\n",
      "BI Data Analyst\n",
      "Insight Analyst\n",
      "Product Data Analyst\n",
      "Data Operations Analyst\n",
      "Marketing Data Analyst\n",
      "Principal Data Analyst\n",
      "Finance Data Analyst\n",
      "\n",
      "Cluster für 'AI':\n",
      "AI Developer\n",
      "AI Scientist\n",
      "AI Programmer\n",
      "\n",
      "Cluster für 'BI':\n",
      "Big Data Engineer\n",
      "BI Data Engineer\n",
      "BI Developer\n",
      "BI Analyst\n",
      "BI Data Analyst\n",
      "Big Data Architect\n",
      "Power BI Developer\n",
      "\n",
      "Cluster für 'Engineer':\n",
      "ML Engineer\n",
      "Research Engineer\n",
      "Analytics Engineer\n",
      "Business Intelligence Engineer\n",
      "Machine Learning Engineer\n",
      "Data Engineer\n",
      "Computer Vision Engineer\n",
      "Applied Machine Learning Engineer\n",
      "ETL Engineer\n",
      "Data DevOps Engineer\n",
      "Big Data Engineer\n",
      "BI Data Engineer\n",
      "MLOps Engineer\n",
      "Cloud Database Engineer\n",
      "Data Infrastructure Engineer\n",
      "Software Data Engineer\n",
      "Data Operations Engineer\n",
      "Machine Learning Infrastructure Engineer\n",
      "Deep Learning Engineer\n",
      "Machine Learning Software Engineer\n",
      "Computer Vision Software Engineer\n",
      "Azure Data Engineer\n",
      "Marketing Data Engineer\n",
      "Data Science Engineer\n",
      "Machine Learning Research Engineer\n",
      "NLP Engineer\n",
      "Principal Machine Learning Engineer\n",
      "Data Analytics Engineer\n",
      "Cloud Data Engineer\n",
      "Lead Machine Learning Engineer\n",
      "Lead Data Engineer\n",
      "Principal Data Engineer\n",
      "\n",
      "Cluster für 'Research':\n",
      "Research Engineer\n",
      "Research Scientist\n",
      "Machine Learning Researcher\n",
      "Deep Learning Researcher\n",
      "Machine Learning Research Engineer\n",
      "3D Computer Vision Researcher\n",
      "\n",
      "Cluster für 'Analytics':\n",
      "Analytics Engineer\n",
      "Data Analytics Manager\n",
      "Data Analytics Specialist\n",
      "Data Analytics Lead\n",
      "Data Analytics Engineer\n",
      "Data Analytics Consultant\n",
      "\n",
      "Cluster für 'Vision':\n",
      "Computer Vision Engineer\n",
      "Computer Vision Software Engineer\n",
      "3D Computer Vision Researcher\n",
      "\n",
      "Cluster für 'Architect':\n",
      "Data Architect\n",
      "Big Data Architect\n",
      "Principal Data Architect\n",
      "Cloud Data Architect\n",
      "\n",
      "Cluster für 'Developer':\n",
      "AI Developer\n",
      "BI Developer\n",
      "Machine Learning Developer\n",
      "Power BI Developer\n",
      "ETL Developer\n",
      "\n",
      "Cluster für 'Manager':\n",
      "Data Analytics Manager\n",
      "Data Science Manager\n",
      "Data Manager\n",
      "Manager Data Management\n",
      "Machine Learning Manager\n",
      "\n",
      "Cluster für 'Head':\n",
      "Head of Data\n",
      "Head of Data Science\n",
      "Head of Machine Learning\n",
      "\n",
      "Cluster für 'Lead':\n",
      "Lead Data Analyst\n",
      "Lead Data Scientist\n",
      "Data Science Lead\n",
      "Data Analytics Lead\n",
      "Data Lead\n",
      "Data Science Tech Lead\n",
      "Data Scientist Lead\n",
      "Lead Machine Learning Engineer\n",
      "Lead Data Engineer\n",
      "\n",
      "Cluster für 'Cloud':\n",
      "Cloud Database Engineer\n",
      "Cloud Data Engineer\n",
      "Cloud Data Architect\n",
      "\n",
      "Cluster für 'Specialist':\n",
      "Data Specialist\n",
      "Data Analytics Specialist\n",
      "Data Management Specialist\n",
      "\n",
      "Cluster für 'Principal':\n",
      "Principal Data Scientist\n",
      "Principal Machine Learning Engineer\n",
      "Principal Data Architect\n",
      "Principal Data Analyst\n",
      "Principal Data Engineer\n",
      "\n",
      "Cluster für 'Others':\n",
      "Data Modeler\n",
      "Data Strategist\n",
      "Director of Data Science\n",
      "Autonomous Vehicle Technician\n",
      "Data Science Consultant\n"
     ]
    }
   ],
   "source": [
    "from sklearn.feature_extraction.text import TfidfVectorizer\n",
    "from sklearn.cluster import KMeans\n",
    "\n",
    "job_titles = data[\"job_title\"].unique()\n",
    "job_titles\n",
    "\n",
    "# keywords\n",
    "keywords = [\"Scientist\",  \"Machine\", \"Analyst\", \"AI\", \"BI\", \"Engineer\", \"Research\", \"Analytics\", \"Vision\", \"Architect\", \"Developer\", \"Manager\", \"Head\", \"Lead\", \"Cloud\", \"Specialist\", \"Principal\"]\n",
    "\n",
    "# create dictionary\n",
    "clusters = {keyword: [] for keyword in keywords}\n",
    "clusters[\"Others\"] = []\n",
    "\n",
    "# assign job titles\n",
    "for title in job_titles:\n",
    "    matched = False\n",
    "    for keyword in keywords:\n",
    "        if keyword.lower() in title.lower():\n",
    "            clusters[keyword].append(title)\n",
    "            matched = True\n",
    "    if not matched:\n",
    "        clusters[\"Others\"].append(title)\n",
    "\n",
    "# Ausgabe der Cluster\n",
    "for keyword, titles in clusters.items():\n",
    "    print(f\"\\nCluster für '{keyword}':\")\n",
    "    for title in titles:\n",
    "        print(title)"
   ]
  },
  {
   "cell_type": "markdown",
   "metadata": {},
   "source": [
    "*** Charts: Countries, Job titles etc.  ***"
   ]
  },
  {
   "cell_type": "code",
   "execution_count": 178,
   "metadata": {},
   "outputs": [
    {
     "data": {
      "image/png": "[encoded data removed]",
      "text/plain": [
       "<Figure size 1000x600 with 1 Axes>"
      ]
     },
     "metadata": {},
     "output_type": "display_data"
    },
    {
     "data": {
      "text/plain": [
       "employment_type\n",
       "FT    99.014647\n",
       "PT     0.452730\n",
       "CT     0.266312\n",
       "FL     0.266312\n",
       "Name: proportion, dtype: float64"
      ]
     },
     "execution_count": 178,
     "metadata": {},
     "output_type": "execute_result"
    }
   ],
   "source": [
    "employment_type_percentages = data[\"employment_type\"].value_counts(normalize=True) * 100\n",
    "\n",
    "\n",
    "plt.figure(figsize=(10,6))\n",
    "plt.pie(employment_type_percentages, labels=employment_type_percentages.index, autopct='%1.1f%%')\n",
    "plt.title(\"Employment Type\")\n",
    "plt.show()\n",
    "\n",
    "employment_type_percentages"
   ]
  },
  {
   "cell_type": "code",
   "execution_count": 179,
   "metadata": {},
   "outputs": [
    {
     "data": {
      "image/png": "[encoded data removed]",
      "text/plain": [
       "<Figure size 1000x600 with 1 Axes>"
      ]
     },
     "metadata": {},
     "output_type": "display_data"
    },
    {
     "data": {
      "text/plain": [
       "experience_level\n",
       "SE    67.003995\n",
       "MI    21.438083\n",
       "EN     8.521971\n",
       "EX     3.035952\n",
       "Name: proportion, dtype: float64"
      ]
     },
     "execution_count": 179,
     "metadata": {},
     "output_type": "execute_result"
    }
   ],
   "source": [
    "experience_level_percentages = data[\"experience_level\"].value_counts(normalize=True) * 100\n",
    "\n",
    "\n",
    "plt.figure(figsize=(10,6))\n",
    "plt.pie(experience_level_percentages, labels=experience_level_percentages.index, autopct='%1.1f%%')\n",
    "plt.title(\"experience_level_percentages\")\n",
    "plt.legend()\n",
    "plt.show()\n",
    "\n",
    "experience_level_percentages"
   ]
  },
  {
   "cell_type": "markdown",
   "metadata": {},
   "source": [
    "***Duplicates***"
   ]
  },
  {
   "cell_type": "code",
   "execution_count": 180,
   "metadata": {},
   "outputs": [
    {
     "data": {
      "text/plain": [
       "2584"
      ]
     },
     "execution_count": 180,
     "metadata": {},
     "output_type": "execute_result"
    }
   ],
   "source": [
    "data.duplicated().sum() #1171 duplicates\n",
    "data = data.drop_duplicates()\n",
    "len(data)"
   ]
  },
  {
   "cell_type": "markdown",
   "metadata": {},
   "source": [
    "Length dataset\n",
    "- 3755 before removing duplicats\n",
    "- 2584 after removing duplicats"
   ]
  },
  {
   "cell_type": "markdown",
   "metadata": {},
   "source": [
    "***Cleaning, Outliers etc...***"
   ]
  },
  {
   "cell_type": "code",
   "execution_count": 181,
   "metadata": {},
   "outputs": [
    {
     "data": {
      "text/plain": [
       "<Axes: >"
      ]
     },
     "execution_count": 181,
     "metadata": {},
     "output_type": "execute_result"
    },
    {
     "data": {
      "image/png": "[encoded data removed]",
      "text/plain": [
       "<Figure size 640x480 with 1 Axes>"
      ]
     },
     "metadata": {},
     "output_type": "display_data"
    }
   ],
   "source": [
    "# data.isnull().sum() --> no missing data!\n",
    "data.boxplot() # Salary has outliers. But not relevant, since salary is the target. "
   ]
  },
  {
   "cell_type": "code",
   "execution_count": 182,
   "metadata": {},
   "outputs": [
    {
     "data": {
      "text/plain": [
       "<Axes: >"
      ]
     },
     "execution_count": 182,
     "metadata": {},
     "output_type": "execute_result"
    },
    {
     "data": {
      "image/png": "[encoded data removed]",
      "text/plain": [
       "<Figure size 640x480 with 1 Axes>"
      ]
     },
     "metadata": {},
     "output_type": "display_data"
    }
   ],
   "source": [
    "data[[\"salary_in_usd\"]].boxplot() # Do a log transformation "
   ]
  },
  {
   "cell_type": "markdown",
   "metadata": {},
   "source": [
    "***Imbalance (Countries, employment type etc...)***"
   ]
  },
  {
   "cell_type": "code",
   "execution_count": 183,
   "metadata": {},
   "outputs": [
    {
     "data": {
      "text/html": [
       "<div>\n",
       "<style scoped>\n",
       "    .dataframe tbody tr th:only-of-type {\n",
       "        vertical-align: middle;\n",
       "    }\n",
       "\n",
       "    .dataframe tbody tr th {\n",
       "        vertical-align: top;\n",
       "    }\n",
       "\n",
       "    .dataframe thead th {\n",
       "        text-align: right;\n",
       "    }\n",
       "</style>\n",
       "<table border=\"1\" class=\"dataframe\">\n",
       "  <thead>\n",
       "    <tr style=\"text-align: right;\">\n",
       "      <th></th>\n",
       "      <th>work_year</th>\n",
       "      <th>experience_level</th>\n",
       "      <th>employment_type</th>\n",
       "      <th>job_title</th>\n",
       "      <th>salary</th>\n",
       "      <th>salary_currency</th>\n",
       "      <th>salary_in_usd</th>\n",
       "      <th>employee_residence</th>\n",
       "      <th>remote_ratio</th>\n",
       "      <th>company_location</th>\n",
       "      <th>company_size</th>\n",
       "    </tr>\n",
       "  </thead>\n",
       "  <tbody>\n",
       "    <tr>\n",
       "      <th>0</th>\n",
       "      <td>2023</td>\n",
       "      <td>SE</td>\n",
       "      <td>FT</td>\n",
       "      <td>Principal Data Scientist</td>\n",
       "      <td>80000</td>\n",
       "      <td>EUR</td>\n",
       "      <td>85847</td>\n",
       "      <td>ES</td>\n",
       "      <td>100</td>\n",
       "      <td>ES</td>\n",
       "      <td>L</td>\n",
       "    </tr>\n",
       "  </tbody>\n",
       "</table>\n",
       "</div>"
      ],
      "text/plain": [
       "   work_year experience_level employment_type                 job_title  \\\n",
       "0       2023               SE              FT  Principal Data Scientist   \n",
       "\n",
       "   salary salary_currency  salary_in_usd employee_residence  remote_ratio  \\\n",
       "0   80000             EUR          85847                 ES           100   \n",
       "\n",
       "  company_location company_size  \n",
       "0               ES            L  "
      ]
     },
     "execution_count": 183,
     "metadata": {},
     "output_type": "execute_result"
    }
   ],
   "source": [
    "data.head(1)"
   ]
  },
  {
   "cell_type": "code",
   "execution_count": 184,
   "metadata": {},
   "outputs": [
    {
     "data": {
      "text/plain": [
       "experience_level\n",
       "SE    60.139319\n",
       "MI    25.696594\n",
       "EN    10.448916\n",
       "EX     3.715170\n",
       "Name: proportion, dtype: float64"
      ]
     },
     "execution_count": 184,
     "metadata": {},
     "output_type": "execute_result"
    }
   ],
   "source": [
    "data[\"experience_level\"].value_counts(normalize=True) * 100"
   ]
  },
  {
   "cell_type": "code",
   "execution_count": 185,
   "metadata": {},
   "outputs": [
    {
     "data": {
      "text/plain": [
       "employment_type\n",
       "FT    98.568111\n",
       "PT     0.657895\n",
       "CT     0.386997\n",
       "FL     0.386997\n",
       "Name: proportion, dtype: float64"
      ]
     },
     "execution_count": 185,
     "metadata": {},
     "output_type": "execute_result"
    }
   ],
   "source": [
    "data[\"employment_type\"].value_counts(normalize=True) * 100"
   ]
  },
  {
   "cell_type": "code",
   "execution_count": 186,
   "metadata": {},
   "outputs": [
    {
     "data": {
      "text/plain": [
       "job_title\n",
       "Data Engineer                598\n",
       "Data Scientist               538\n",
       "Data Analyst                 396\n",
       "Machine Learning Engineer    206\n",
       "Analytics Engineer            91\n",
       "Research Scientist            65\n",
       "Data Architect                64\n",
       "Data Science Manager          52\n",
       "ML Engineer                   34\n",
       "Research Engineer             33\n",
       "Name: count, dtype: int64"
      ]
     },
     "execution_count": 186,
     "metadata": {},
     "output_type": "execute_result"
    }
   ],
   "source": [
    "data[\"job_title\"].value_counts().head(10)"
   ]
  },
  {
   "cell_type": "code",
   "execution_count": 187,
   "metadata": {},
   "outputs": [
    {
     "data": {
      "text/plain": [
       "company_location\n",
       "US    1929\n",
       "GB     155\n",
       "CA      83\n",
       "IN      57\n",
       "DE      55\n",
       "ES      44\n",
       "FR      33\n",
       "BR      15\n",
       "AU      14\n",
       "PT      14\n",
       "Name: count, dtype: int64"
      ]
     },
     "execution_count": 187,
     "metadata": {},
     "output_type": "execute_result"
    }
   ],
   "source": [
    "countries = data[\"company_location\"].value_counts()\n",
    "countries.head(10)"
   ]
  },
  {
   "cell_type": "code",
   "execution_count": 188,
   "metadata": {},
   "outputs": [
    {
     "data": {
      "text/plain": [
       "company_size\n",
       "M    78.482972\n",
       "L    15.828173\n",
       "S     5.688854\n",
       "Name: proportion, dtype: float64"
      ]
     },
     "execution_count": 188,
     "metadata": {},
     "output_type": "execute_result"
    }
   ],
   "source": [
    "data[\"company_size\"].value_counts(normalize=True) * 100"
   ]
  },
  {
   "cell_type": "markdown",
   "metadata": {},
   "source": [
    "The following columns are imbalanced: \n",
    "- experience_level\n",
    "- employment_type (very)\n",
    "- job_title\n",
    "-company_location\n",
    "-company_size (S)"
   ]
  },
  {
   "cell_type": "code",
   "execution_count": null,
   "metadata": {},
   "outputs": [],
   "source": []
  },
  {
   "cell_type": "markdown",
   "metadata": {},
   "source": [
    "***Company location: Cluster the data (Raphael's clusters)***"
   ]
  },
  {
   "cell_type": "code",
   "execution_count": 189,
   "metadata": {},
   "outputs": [
    {
     "name": "stdout",
     "output_type": "stream",
     "text": [
      "company_location_grouped\n",
      "US                   1929\n",
      "GB                    155\n",
      "Rest_of_Europe        116\n",
      "CA                     83\n",
      "IN                     57\n",
      "DE                     55\n",
      "ES                     44\n",
      "Rest_of_the_World      43\n",
      "Latin_America          37\n",
      "FR                     33\n",
      "Rest_of_Asia           32\n",
      "Name: count, dtype: int64\n"
     ]
    }
   ],
   "source": [
    "#Group Countries by regions\n",
    "\n",
    "# List of countries with more than 30 entries\n",
    "high_entry_countries = ['US', 'GB', 'CA', 'ES', 'IN', 'DE', 'FR']\n",
    "\n",
    "# Create a dictionary mapping each country to its region\n",
    "country_to_region = {\n",
    "    'NG': 'Rest_of_the_World', 'GH': 'Rest_of_the_World', 'KE': 'Rest_of_the_World', 'EG': 'Rest_of_the_World', 'DZ': 'Rest_of_the_World',\n",
    "    'MA': 'Rest_of_the_World', 'ZA': 'Rest_of_the_World', 'AO': 'Rest_of_the_World', 'TN': 'Rest_of_the_World', 'CI': 'Rest_of_the_World',\n",
    "    'CM': 'Rest_of_the_World', 'ET': 'Rest_of_the_World', 'SN': 'Rest_of_the_World', 'UG': 'Rest_of_the_World', 'TZ': 'Rest_of_the_World',\n",
    "    'CD': 'Rest_of_the_World', 'ZW': 'Rest_of_the_World', 'MZ': 'Rest_of_the_World', 'NE': 'Rest_of_the_World', 'MW': 'Rest_of_the_World',\n",
    "    'BJ': 'Rest_of_the_World', 'BF': 'Rest_of_the_World', 'ML': 'Rest_of_the_World', 'GN': 'Rest_of_the_World', 'TD': 'Rest_of_the_World',\n",
    "    'SO': 'Rest_of_the_World', 'BI': 'Rest_of_the_World', 'LS': 'Rest_of_the_World', 'ER': 'Rest_of_the_World', 'LY': 'Rest_of_the_World',\n",
    "    'NA': 'Rest_of_the_World', 'GQ': 'Rest_of_the_World', 'GW': 'Rest_of_the_World', 'SS': 'Rest_of_the_World', 'GA': 'Rest_of_the_World',\n",
    "    'SL': 'Rest_of_the_World', 'CG': 'Rest_of_the_World', 'SZ': 'Rest_of_the_World', 'RE': 'Rest_of_the_World', 'ST': 'Rest_of_the_World',\n",
    "    'YT': 'Rest_of_the_World', 'SC': 'Rest_of_the_World', 'ZM': 'Rest_of_the_World', 'BW': 'Rest_of_the_World', 'CV': 'Rest_of_the_World',\n",
    "    'MU': 'Rest_of_the_World', 'KM': 'Rest_of_the_World', 'GM': 'Rest_of_the_World', 'GW': 'Rest_of_the_World', 'TG': 'Rest_of_the_World',\n",
    "    'BJ': 'Rest_of_the_World', 'AO': 'Rest_of_the_World', 'MW': 'Rest_of_the_World', 'ZW': 'Rest_of_the_World', 'CD': 'Rest_of_the_World',\n",
    "    'HK': 'Rest_of_Asia', 'SG': 'Rest_of_Asia', 'TH': 'Rest_of_Asia', 'VN': 'Rest_of_Asia', 'MY': 'Rest_of_Asia',\n",
    "    'PH': 'Rest_of_Asia', 'ID': 'Rest_of_Asia', 'JP': 'Rest_of_Asia', 'CN': 'Rest_of_Asia', 'KR': 'Rest_of_Asia',\n",
    "    'TW': 'Rest_of_Asia', 'PK': 'Rest_of_Asia', 'BD': 'Rest_of_Asia', 'LK': 'Rest_of_Asia',\n",
    "    'NP': 'Rest_of_Asia', 'MM': 'Rest_of_Asia', 'KH': 'Rest_of_Asia', 'BN': 'Rest_of_Asia', 'TL': 'Rest_of_Asia',\n",
    "    'MN': 'Rest_of_Asia', 'UZ': 'Rest_of_Asia', 'TM': 'Rest_of_Asia', 'KG': 'Rest_of_Asia', 'TJ': 'Rest_of_Asia',\n",
    "    'AZ': 'Rest_of_Asia', 'GE': 'Rest_of_Asia', 'AM': 'Rest_of_Asia', 'SY': 'Rest_of_Asia', 'IQ': 'Rest_of_Asia',\n",
    "    'LB': 'Rest_of_Asia', 'JO': 'Rest_of_Asia', 'PS': 'Rest_of_Asia', 'KW': 'Rest_of_Asia', 'SA': 'Rest_of_Asia',\n",
    "    'OM': 'Rest_of_Asia', 'YE': 'Rest_of_Asia', 'AE': 'Rest_of_Asia', 'QA': 'Rest_of_Asia', 'BH': 'Rest_of_Asia',\n",
    "    'IR': 'Rest_of_Asia', 'AF': 'Rest_of_Asia', 'TL': 'Rest_of_Asia', 'MV': 'Rest_of_Asia', 'BT': 'Rest_of_Asia',\n",
    "    'AR': 'Latin_America', 'BO': 'Latin_America', 'BR': 'Latin_America', 'CL': 'Latin_America',\n",
    "    'CO': 'Latin_America', 'EC': 'Latin_America', 'FK': 'Latin_America', 'GF': 'Latin_America',\n",
    "    'GY': 'Latin_America', 'PE': 'Latin_America', 'PY': 'Latin_America', 'SR': 'Latin_America',\n",
    "    'UY': 'Latin_America', 'VE': 'Latin_America', 'MX': 'Latin_America', 'CR': 'Latin_America',\n",
    "    'DO': 'Latin_America', 'GT': 'Latin_America', 'HN': 'Latin_America', 'NI': 'Latin_America',\n",
    "    'PA': 'Latin_America', 'SV': 'Latin_America', 'BZ': 'Latin_America', 'BB': 'Latin_America',\n",
    "    'CU': 'Latin_America', 'JM': 'Latin_America', 'HT': 'Latin_America', 'TT': 'Latin_America',\n",
    "    'BS': 'Latin_America', 'LC': 'Latin_America', 'GD': 'Latin_America', 'AG': 'Latin_America',\n",
    "    'DM': 'Latin_America', 'VC': 'Latin_America', 'KN': 'Latin_America',\n",
    "    'AU': 'Rest_of_the_World', 'FJ': 'Rest_of_the_World', 'KI': 'Rest_of_the_World', 'MH': 'Rest_of_the_World', 'FM': 'Rest_of_the_World',\n",
    "    'NR': 'Rest_of_the_World', 'NZ': 'Rest_of_the_World', 'PW': 'Rest_of_the_World', 'PG': 'Rest_of_the_World', 'WS': 'Rest_of_the_World',\n",
    "    'SB': 'Rest_of_the_World', 'TO': 'Rest_of_the_World', 'TV': 'Rest_of_the_World', 'VU': 'Rest_of_the_World',\n",
    "    'AT': 'Rest_of_Europe', 'BE': 'Rest_of_Europe', 'BG': 'Rest_of_Europe', 'HR': 'Rest_of_Europe', 'CY': 'Rest_of_Europe',\n",
    "    'CZ': 'Rest_of_Europe', 'DK': 'Rest_of_Europe', 'EE': 'Rest_of_Europe', 'FI': 'Rest_of_Europe',\n",
    "    'GR': 'Rest_of_Europe', 'HU': 'Rest_of_Europe', 'IS': 'Rest_of_Europe', 'IE': 'Rest_of_Europe',\n",
    "    'IT': 'Rest_of_Europe', 'LV': 'Rest_of_Europe', 'LT': 'Rest_of_Europe', 'LU': 'Rest_of_Europe', 'MT': 'Rest_of_Europe',\n",
    "    'NL': 'Rest_of_Europe', 'NO': 'Rest_of_Europe', 'PL': 'Rest_of_Europe', 'PT': 'Rest_of_Europe', 'RO': 'Rest_of_Europe',\n",
    "    'RU': 'Rest_of_Europe', 'SK': 'Rest_of_Europe', 'SI': 'Rest_of_Europe', 'SE': 'Rest_of_Europe',\n",
    "    'CH': 'Rest_of_Europe', 'UA': 'Rest_of_Europe', 'RS': 'Rest_of_Europe', 'MD': 'Rest_of_Europe',\n",
    "    'ME': 'Rest_of_Europe', 'MK': 'Rest_of_Europe', 'AL': 'Rest_of_Europe', 'BA': 'Rest_of_Europe', 'XK': 'Rest_of_Europe',\n",
    "    'BY': 'Rest_of_Europe', 'AD': 'Rest_of_Europe', 'MC': 'Rest_of_Europe', 'SM': 'Rest_of_Europe', 'LI': 'Rest_of_Europe',\n",
    "    'VA': 'Rest_of_Europe'\n",
    "}\n",
    "# Ensure countries with high entries remain their own category\n",
    "for country in high_entry_countries:\n",
    "    country_to_region[country] = country\n",
    "\n",
    "# Function to map company location to regions or keep it unchanged for high entry countries\n",
    "def map_location(location):\n",
    "    if location in high_entry_countries:\n",
    "        return location\n",
    "    return country_to_region.get(location, 'Rest_of_the_World')  # Default to 'Rest_of_the_World' if not found in the dictionary\n",
    "\n",
    "# Create the new column company_location_grouped\n",
    "data['company_location_grouped'] = data['company_location'].apply(map_location)\n",
    "\n",
    "# Count the number of entries for each region and high-entry country\n",
    "region_counts = data['company_location_grouped'].value_counts()\n",
    "print(region_counts)"
   ]
  },
  {
   "cell_type": "code",
   "execution_count": 190,
   "metadata": {},
   "outputs": [
    {
     "data": {
      "text/html": [
       "<div>\n",
       "<style scoped>\n",
       "    .dataframe tbody tr th:only-of-type {\n",
       "        vertical-align: middle;\n",
       "    }\n",
       "\n",
       "    .dataframe tbody tr th {\n",
       "        vertical-align: top;\n",
       "    }\n",
       "\n",
       "    .dataframe thead th {\n",
       "        text-align: right;\n",
       "    }\n",
       "</style>\n",
       "<table border=\"1\" class=\"dataframe\">\n",
       "  <thead>\n",
       "    <tr style=\"text-align: right;\">\n",
       "      <th></th>\n",
       "      <th>work_year</th>\n",
       "      <th>experience_level</th>\n",
       "      <th>employment_type</th>\n",
       "      <th>job_title</th>\n",
       "      <th>salary</th>\n",
       "      <th>salary_currency</th>\n",
       "      <th>salary_in_usd</th>\n",
       "      <th>employee_residence</th>\n",
       "      <th>remote_ratio</th>\n",
       "      <th>company_location</th>\n",
       "      <th>company_size</th>\n",
       "      <th>company_location_grouped</th>\n",
       "    </tr>\n",
       "  </thead>\n",
       "  <tbody>\n",
       "    <tr>\n",
       "      <th>0</th>\n",
       "      <td>2023</td>\n",
       "      <td>SE</td>\n",
       "      <td>FT</td>\n",
       "      <td>Principal Data Scientist</td>\n",
       "      <td>80000</td>\n",
       "      <td>EUR</td>\n",
       "      <td>85847</td>\n",
       "      <td>ES</td>\n",
       "      <td>100</td>\n",
       "      <td>ES</td>\n",
       "      <td>L</td>\n",
       "      <td>ES</td>\n",
       "    </tr>\n",
       "    <tr>\n",
       "      <th>1</th>\n",
       "      <td>2023</td>\n",
       "      <td>MI</td>\n",
       "      <td>CT</td>\n",
       "      <td>ML Engineer</td>\n",
       "      <td>30000</td>\n",
       "      <td>USD</td>\n",
       "      <td>30000</td>\n",
       "      <td>US</td>\n",
       "      <td>100</td>\n",
       "      <td>US</td>\n",
       "      <td>S</td>\n",
       "      <td>US</td>\n",
       "    </tr>\n",
       "    <tr>\n",
       "      <th>2</th>\n",
       "      <td>2023</td>\n",
       "      <td>MI</td>\n",
       "      <td>CT</td>\n",
       "      <td>ML Engineer</td>\n",
       "      <td>25500</td>\n",
       "      <td>USD</td>\n",
       "      <td>25500</td>\n",
       "      <td>US</td>\n",
       "      <td>100</td>\n",
       "      <td>US</td>\n",
       "      <td>S</td>\n",
       "      <td>US</td>\n",
       "    </tr>\n",
       "    <tr>\n",
       "      <th>3</th>\n",
       "      <td>2023</td>\n",
       "      <td>SE</td>\n",
       "      <td>FT</td>\n",
       "      <td>Data Scientist</td>\n",
       "      <td>175000</td>\n",
       "      <td>USD</td>\n",
       "      <td>175000</td>\n",
       "      <td>CA</td>\n",
       "      <td>100</td>\n",
       "      <td>CA</td>\n",
       "      <td>M</td>\n",
       "      <td>CA</td>\n",
       "    </tr>\n",
       "    <tr>\n",
       "      <th>4</th>\n",
       "      <td>2023</td>\n",
       "      <td>SE</td>\n",
       "      <td>FT</td>\n",
       "      <td>Data Scientist</td>\n",
       "      <td>120000</td>\n",
       "      <td>USD</td>\n",
       "      <td>120000</td>\n",
       "      <td>CA</td>\n",
       "      <td>100</td>\n",
       "      <td>CA</td>\n",
       "      <td>M</td>\n",
       "      <td>CA</td>\n",
       "    </tr>\n",
       "    <tr>\n",
       "      <th>...</th>\n",
       "      <td>...</td>\n",
       "      <td>...</td>\n",
       "      <td>...</td>\n",
       "      <td>...</td>\n",
       "      <td>...</td>\n",
       "      <td>...</td>\n",
       "      <td>...</td>\n",
       "      <td>...</td>\n",
       "      <td>...</td>\n",
       "      <td>...</td>\n",
       "      <td>...</td>\n",
       "      <td>...</td>\n",
       "    </tr>\n",
       "    <tr>\n",
       "      <th>3750</th>\n",
       "      <td>2020</td>\n",
       "      <td>SE</td>\n",
       "      <td>FT</td>\n",
       "      <td>Data Scientist</td>\n",
       "      <td>412000</td>\n",
       "      <td>USD</td>\n",
       "      <td>412000</td>\n",
       "      <td>US</td>\n",
       "      <td>100</td>\n",
       "      <td>US</td>\n",
       "      <td>L</td>\n",
       "      <td>US</td>\n",
       "    </tr>\n",
       "    <tr>\n",
       "      <th>3751</th>\n",
       "      <td>2021</td>\n",
       "      <td>MI</td>\n",
       "      <td>FT</td>\n",
       "      <td>Principal Data Scientist</td>\n",
       "      <td>151000</td>\n",
       "      <td>USD</td>\n",
       "      <td>151000</td>\n",
       "      <td>US</td>\n",
       "      <td>100</td>\n",
       "      <td>US</td>\n",
       "      <td>L</td>\n",
       "      <td>US</td>\n",
       "    </tr>\n",
       "    <tr>\n",
       "      <th>3752</th>\n",
       "      <td>2020</td>\n",
       "      <td>EN</td>\n",
       "      <td>FT</td>\n",
       "      <td>Data Scientist</td>\n",
       "      <td>105000</td>\n",
       "      <td>USD</td>\n",
       "      <td>105000</td>\n",
       "      <td>US</td>\n",
       "      <td>100</td>\n",
       "      <td>US</td>\n",
       "      <td>S</td>\n",
       "      <td>US</td>\n",
       "    </tr>\n",
       "    <tr>\n",
       "      <th>3753</th>\n",
       "      <td>2020</td>\n",
       "      <td>EN</td>\n",
       "      <td>CT</td>\n",
       "      <td>Business Data Analyst</td>\n",
       "      <td>100000</td>\n",
       "      <td>USD</td>\n",
       "      <td>100000</td>\n",
       "      <td>US</td>\n",
       "      <td>100</td>\n",
       "      <td>US</td>\n",
       "      <td>L</td>\n",
       "      <td>US</td>\n",
       "    </tr>\n",
       "    <tr>\n",
       "      <th>3754</th>\n",
       "      <td>2021</td>\n",
       "      <td>SE</td>\n",
       "      <td>FT</td>\n",
       "      <td>Data Science Manager</td>\n",
       "      <td>7000000</td>\n",
       "      <td>INR</td>\n",
       "      <td>94665</td>\n",
       "      <td>IN</td>\n",
       "      <td>50</td>\n",
       "      <td>IN</td>\n",
       "      <td>L</td>\n",
       "      <td>IN</td>\n",
       "    </tr>\n",
       "  </tbody>\n",
       "</table>\n",
       "<p>2584 rows × 12 columns</p>\n",
       "</div>"
      ],
      "text/plain": [
       "      work_year experience_level employment_type                 job_title  \\\n",
       "0          2023               SE              FT  Principal Data Scientist   \n",
       "1          2023               MI              CT               ML Engineer   \n",
       "2          2023               MI              CT               ML Engineer   \n",
       "3          2023               SE              FT            Data Scientist   \n",
       "4          2023               SE              FT            Data Scientist   \n",
       "...         ...              ...             ...                       ...   \n",
       "3750       2020               SE              FT            Data Scientist   \n",
       "3751       2021               MI              FT  Principal Data Scientist   \n",
       "3752       2020               EN              FT            Data Scientist   \n",
       "3753       2020               EN              CT     Business Data Analyst   \n",
       "3754       2021               SE              FT      Data Science Manager   \n",
       "\n",
       "       salary salary_currency  salary_in_usd employee_residence  remote_ratio  \\\n",
       "0       80000             EUR          85847                 ES           100   \n",
       "1       30000             USD          30000                 US           100   \n",
       "2       25500             USD          25500                 US           100   \n",
       "3      175000             USD         175000                 CA           100   \n",
       "4      120000             USD         120000                 CA           100   \n",
       "...       ...             ...            ...                ...           ...   \n",
       "3750   412000             USD         412000                 US           100   \n",
       "3751   151000             USD         151000                 US           100   \n",
       "3752   105000             USD         105000                 US           100   \n",
       "3753   100000             USD         100000                 US           100   \n",
       "3754  7000000             INR          94665                 IN            50   \n",
       "\n",
       "     company_location company_size company_location_grouped  \n",
       "0                  ES            L                       ES  \n",
       "1                  US            S                       US  \n",
       "2                  US            S                       US  \n",
       "3                  CA            M                       CA  \n",
       "4                  CA            M                       CA  \n",
       "...               ...          ...                      ...  \n",
       "3750               US            L                       US  \n",
       "3751               US            L                       US  \n",
       "3752               US            S                       US  \n",
       "3753               US            L                       US  \n",
       "3754               IN            L                       IN  \n",
       "\n",
       "[2584 rows x 12 columns]"
      ]
     },
     "execution_count": 190,
     "metadata": {},
     "output_type": "execute_result"
    }
   ],
   "source": [
    "data"
   ]
  },
  {
   "cell_type": "markdown",
   "metadata": {},
   "source": [
    "***Heatmap (test for multicolinearity)***"
   ]
  },
  {
   "cell_type": "markdown",
   "metadata": {},
   "source": [
    "***X,y Train, Test, Split***"
   ]
  },
  {
   "cell_type": "code",
   "execution_count": 191,
   "metadata": {},
   "outputs": [
    {
     "data": {
      "text/html": [
       "<div>\n",
       "<style scoped>\n",
       "    .dataframe tbody tr th:only-of-type {\n",
       "        vertical-align: middle;\n",
       "    }\n",
       "\n",
       "    .dataframe tbody tr th {\n",
       "        vertical-align: top;\n",
       "    }\n",
       "\n",
       "    .dataframe thead th {\n",
       "        text-align: right;\n",
       "    }\n",
       "</style>\n",
       "<table border=\"1\" class=\"dataframe\">\n",
       "  <thead>\n",
       "    <tr style=\"text-align: right;\">\n",
       "      <th></th>\n",
       "      <th>work_year</th>\n",
       "      <th>experience_level</th>\n",
       "      <th>employment_type</th>\n",
       "      <th>job_title</th>\n",
       "      <th>employee_residence</th>\n",
       "      <th>remote_ratio</th>\n",
       "      <th>company_size</th>\n",
       "      <th>company_location_grouped</th>\n",
       "    </tr>\n",
       "  </thead>\n",
       "  <tbody>\n",
       "    <tr>\n",
       "      <th>0</th>\n",
       "      <td>2023</td>\n",
       "      <td>SE</td>\n",
       "      <td>FT</td>\n",
       "      <td>Principal Data Scientist</td>\n",
       "      <td>ES</td>\n",
       "      <td>100</td>\n",
       "      <td>L</td>\n",
       "      <td>ES</td>\n",
       "    </tr>\n",
       "    <tr>\n",
       "      <th>1</th>\n",
       "      <td>2023</td>\n",
       "      <td>MI</td>\n",
       "      <td>CT</td>\n",
       "      <td>ML Engineer</td>\n",
       "      <td>US</td>\n",
       "      <td>100</td>\n",
       "      <td>S</td>\n",
       "      <td>US</td>\n",
       "    </tr>\n",
       "  </tbody>\n",
       "</table>\n",
       "</div>"
      ],
      "text/plain": [
       "   work_year experience_level employment_type                 job_title  \\\n",
       "0       2023               SE              FT  Principal Data Scientist   \n",
       "1       2023               MI              CT               ML Engineer   \n",
       "\n",
       "  employee_residence  remote_ratio company_size company_location_grouped  \n",
       "0                 ES           100            L                       ES  \n",
       "1                 US           100            S                       US  "
      ]
     },
     "execution_count": 191,
     "metadata": {},
     "output_type": "execute_result"
    }
   ],
   "source": [
    "X = data.drop(columns=[\"salary\", \"salary_currency\", \"salary_in_usd\", \"company_location\"])\n",
    "y = data [\"salary_in_usd\"]\n",
    "X.head(2)"
   ]
  },
  {
   "cell_type": "markdown",
   "metadata": {},
   "source": [
    "We only scale X, there only the column remote_ratio contains numerical values (100,   0,  50). If scaling is necessary depends on the ML model. \n",
    "\n",
    "We don't scale y.... But in case we need to: salary contains outliers, therefore Robust Scaler is the best choice. "
   ]
  },
  {
   "cell_type": "code",
   "execution_count": 192,
   "metadata": {},
   "outputs": [],
   "source": [
    "# Train-Test split\n",
    "\n",
    "from sklearn.model_selection import train_test_split\n",
    "\n",
    "X_train, X_test, y_train, y_test = train_test_split(X, y, test_size = 0.20, shuffle=True)"
   ]
  },
  {
   "cell_type": "markdown",
   "metadata": {},
   "source": [
    "***Function for Preprocessing steps***"
   ]
  },
  {
   "cell_type": "code",
   "execution_count": 202,
   "metadata": {},
   "outputs": [],
   "source": [
    "def delete_duplicates (data):\n",
    "    data = data.drop_duplicates()\n",
    "    return data"
   ]
  },
  {
   "cell_type": "markdown",
   "metadata": {},
   "source": [
    "***Encoding the data***"
   ]
  },
  {
   "cell_type": "markdown",
   "metadata": {},
   "source": [
    "\n",
    "Colums without order: \n",
    "- One hot encoder\n",
    "- Job_title, employee_residence,company_location\n",
    "\n",
    "Columns with order: \n",
    "- Ordinal Encoder\n",
    "- work_year, experience_level, employment_type, remote_ratio, company_size\n",
    "\n",
    "\n",
    "--> After Encoding; Setup a preprocessing pipeline, to encode all features. "
   ]
  },
  {
   "cell_type": "code",
   "execution_count": 194,
   "metadata": {},
   "outputs": [],
   "source": [
    "from sklearn.preprocessing import StandardScaler, OrdinalEncoder, OneHotEncoder\n",
    "from sklearn.compose import ColumnTransformer\n",
    "from sklearn.pipeline import Pipeline\n",
    "from sklearn.linear_model import Ridge\n",
    "\n",
    "# Assign features to encoder-version\n",
    "categorical_col = [\"job_title\", \"company_location_grouped\", \"employee_residence\"]\n",
    "ordinal_col = [\"work_year\", \"experience_level\", \"company_size\"]\n",
    "\n",
    "# Define categories for ordinal_col\n",
    "work_year_categories = [\"2020\", \"2021\", \"2022\", \"2023\"]\n",
    "experience_level_categories = [\"EN\", \"MI\", \"SE\", \"EX\"]\n",
    "employment_type_categories = [\"PT\", \"FT\", \"CT\", \"FL\"]\n",
    "company_size_categories = [\"S\", \"M\", \"L\"]\n",
    "\n",
    "# Combine categories into final list\n",
    "categories = [work_year_categories, experience_level_categories, company_size_categories]\n",
    "\n",
    "# Instantiate OrdinalEncoder with categories\n",
    "ordinal_encoder = OrdinalEncoder(categories=categories)\n",
    "categorial_encoder = OneHotEncoder(sparse_output = False, handle_unknown='ignore')\n",
    "\n",
    "# Create a pipeline for ordinal encoding and scaling\n",
    "ordinal_pipeline = Pipeline([\n",
    "    ('ordinal_encoder', ordinal_encoder),\n",
    "    ('scaler', StandardScaler())\n",
    "])\n",
    "\n",
    "# Parallelize the encoders\n",
    "preprocessor = ColumnTransformer([\n",
    "    ('ordinal_pipeline', ordinal_pipeline, ordinal_col),\n",
    "    ('categorial_encoder', categorial_encoder, categorical_col)\n",
    "])\n"
   ]
  },
  {
   "cell_type": "code",
   "execution_count": 195,
   "metadata": {},
   "outputs": [
    {
     "data": {
      "text/plain": [
       "0.48864025178979287"
      ]
     },
     "execution_count": 195,
     "metadata": {},
     "output_type": "execute_result"
    }
   ],
   "source": [
    "# Create a  regressor\n",
    "regressor = Ridge()\n",
    "\n",
    "# Create a pipeline that includes the preprocessor and the regressor\n",
    "model = Pipeline([\n",
    "    ('preprocessor', preprocessor),\n",
    "    ('regressor', regressor)\n",
    "])\n",
    "\n",
    "# fit and transform your data with the preprocessor\n",
    "model.fit(X_train, y_train)\n",
    "\n",
    "y_pred = model.predict(X_test)\n",
    "model.score(X_test, y_test) # Score model"
   ]
  },
  {
   "cell_type": "code",
   "execution_count": null,
   "metadata": {},
   "outputs": [],
   "source": [
    "\n"
   ]
  },
  {
   "cell_type": "code",
   "execution_count": null,
   "metadata": {},
   "outputs": [],
   "source": []
  },
  {
   "cell_type": "code",
   "execution_count": null,
   "metadata": {},
   "outputs": [],
   "source": []
  },
  {
   "cell_type": "code",
   "execution_count": null,
   "metadata": {},
   "outputs": [],
   "source": []
  },
  {
   "cell_type": "code",
   "execution_count": null,
   "metadata": {},
   "outputs": [],
   "source": []
  },
  {
   "cell_type": "markdown",
   "metadata": {},
   "source": [
    "***Regression with different methods***\n",
    "below are different methods tested, the best integrated in the model above"
   ]
  },
  {
   "cell_type": "code",
   "execution_count": null,
   "metadata": {},
   "outputs": [],
   "source": []
  },
  {
   "cell_type": "code",
   "execution_count": 196,
   "metadata": {},
   "outputs": [
    {
     "data": {
      "text/plain": [
       "-0.001885468284228864"
      ]
     },
     "execution_count": 196,
     "metadata": {},
     "output_type": "execute_result"
    }
   ],
   "source": [
    "from sklearn.dummy import DummyRegressor\n",
    "from sklearn.linear_model import LinearRegression\n",
    "\n",
    "baseline_model = DummyRegressor(strategy=\"mean\") # Baseline\n",
    "baseline_model.fit(X_train, y_train) # Calculate value for stratgy\n",
    "baseline_model.score(X_test, y_test) # Score model based on consistently predicting the strategy"
   ]
  },
  {
   "cell_type": "code",
   "execution_count": 197,
   "metadata": {},
   "outputs": [
    {
     "data": {
      "text/plain": [
       "-1.5635270003722373e+21"
      ]
     },
     "execution_count": 197,
     "metadata": {},
     "output_type": "execute_result"
    }
   ],
   "source": [
    "# Linear Regression --> Bullshit\n",
    "regressor = LinearRegression()\n",
    "\n",
    "# Create a pipeline that includes the preprocessor and the regressor\n",
    "model2 = Pipeline([\n",
    "    ('preprocessor', preprocessor),\n",
    "    ('regressor', regressor)\n",
    "])\n",
    "\n",
    "# fit and transform your data with the preprocessor\n",
    "model2.fit(X_train, y_train)\n",
    "\n",
    "y_pred = model.predict(X_test)\n",
    "model2.score(X_test, y_test) # Score model"
   ]
  },
  {
   "cell_type": "code",
   "execution_count": 198,
   "metadata": {},
   "outputs": [
    {
     "data": {
      "text/plain": [
       "0.3504969941937386"
      ]
     },
     "execution_count": 198,
     "metadata": {},
     "output_type": "execute_result"
    }
   ],
   "source": [
    "# Elastic Net\n",
    "regressor = ElasticNet()\n",
    "\n",
    "# Create a pipeline that includes the preprocessor and the regressor\n",
    "model3 = Pipeline([\n",
    "    ('preprocessor', preprocessor),\n",
    "    ('regressor', regressor)\n",
    "])\n",
    "\n",
    "# fit and transform your data with the preprocessor\n",
    "model3.fit(X_train, y_train)\n",
    "\n",
    "y_pred = model.predict(X_test)\n",
    "model3.score(X_test, y_test) # Score model"
   ]
  },
  {
   "cell_type": "code",
   "execution_count": 199,
   "metadata": {},
   "outputs": [
    {
     "data": {
      "text/plain": [
       "0.48864025178979287"
      ]
     },
     "execution_count": 199,
     "metadata": {},
     "output_type": "execute_result"
    }
   ],
   "source": [
    "# Ridge \n",
    "regressor = Ridge()\n",
    "\n",
    "# Create a pipeline that includes the preprocessor and the regressor\n",
    "model4 = Pipeline([\n",
    "    ('preprocessor', preprocessor),\n",
    "    ('regressor', regressor)\n",
    "])\n",
    "\n",
    "# fit and transform your data with the preprocessor\n",
    "model4.fit(X_train, y_train)\n",
    "\n",
    "y_pred = model.predict(X_test)\n",
    "model4.score(X_test, y_test) # Score model"
   ]
  },
  {
   "cell_type": "code",
   "execution_count": 200,
   "metadata": {},
   "outputs": [
    {
     "data": {
      "text/plain": [
       "0.46927735814271"
      ]
     },
     "execution_count": 200,
     "metadata": {},
     "output_type": "execute_result"
    }
   ],
   "source": [
    "# Lasso \n",
    "regressor = Lasso(alpha=1.0, max_iter=10000)\n",
    "\n",
    "# Create a pipeline that includes the preprocessor and the regressor\n",
    "model5 = Pipeline([\n",
    "    ('preprocessor', preprocessor),\n",
    "    ('regressor', regressor)\n",
    "])\n",
    "\n",
    "# fit and transform your data with the preprocessor\n",
    "model5.fit(X_train, y_train)\n",
    "\n",
    "y_pred = model.predict(X_test)\n",
    "model5.score(X_test, y_test) # Score model"
   ]
  },
  {
   "cell_type": "code",
   "execution_count": 201,
   "metadata": {},
   "outputs": [
    {
     "data": {
      "text/plain": [
       "0.0006153928489371907"
      ]
     },
     "execution_count": 201,
     "metadata": {},
     "output_type": "execute_result"
    }
   ],
   "source": [
    "# SVR \n",
    "regressor = SVR()\n",
    "\n",
    "# Create a pipeline that includes the preprocessor and the regressor\n",
    "model6 = Pipeline([\n",
    "    ('preprocessor', preprocessor),\n",
    "    ('regressor', regressor)\n",
    "])\n",
    "\n",
    "# fit and transform your data with the preprocessor\n",
    "model6.fit(X_train, y_train)\n",
    "\n",
    "y_pred = model.predict(X_test)\n",
    "model6.score(X_test, y_test) # Score model"
   ]
  },
  {
   "cell_type": "code",
   "execution_count": null,
   "metadata": {},
   "outputs": [],
   "source": []
  },
  {
   "cell_type": "markdown",
   "metadata": {},
   "source": [
    "Ways to improve results\n",
    "- do a log transform on the salary-data (target)\n",
    "- exclude employee residence from features (multicolineartity), VIF analysis\n",
    "- Tune hyperparameters\n",
    "- imbalance: remove imbalanced colum(employment type)"
   ]
  },
  {
   "cell_type": "code",
   "execution_count": null,
   "metadata": {},
   "outputs": [],
   "source": []
  },
  {
   "cell_type": "code",
   "execution_count": null,
   "metadata": {},
   "outputs": [],
   "source": []
  },
  {
   "cell_type": "code",
   "execution_count": null,
   "metadata": {},
   "outputs": [],
   "source": []
  },
  {
   "cell_type": "code",
   "execution_count": null,
   "metadata": {},
   "outputs": [],
   "source": []
  }
 ],
 "metadata": {
  "kernelspec": {
   "display_name": "Python 3 (ipykernel)",
   "language": "python",
   "name": "python3"
  },
  "language_info": {
   "codemirror_mode": {
    "name": "ipython",
    "version": 3
   },
   "file_extension": ".py",
   "mimetype": "text/x-python",
   "name": "python",
   "nbconvert_exporter": "python",
   "pygments_lexer": "ipython3",
   "version": "3.10.6"
  }
 },
 "nbformat": 4,
 "nbformat_minor": 4
}
