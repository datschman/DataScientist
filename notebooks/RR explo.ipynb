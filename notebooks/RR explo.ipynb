{
 "cells": [
  {
   "cell_type": "markdown",
   "metadata": {},
   "source": [
    "***Data Set 1 : Exploration***"
   ]
  },
  {
   "cell_type": "markdown",
   "metadata": {},
   "source": [
    "General Info"
   ]
  },
  {
   "cell_type": "code",
   "execution_count": 1,
   "metadata": {},
   "outputs": [
    {
     "data": {
      "text/html": [
       "<div>\n",
       "<style scoped>\n",
       "    .dataframe tbody tr th:only-of-type {\n",
       "        vertical-align: middle;\n",
       "    }\n",
       "\n",
       "    .dataframe tbody tr th {\n",
       "        vertical-align: top;\n",
       "    }\n",
       "\n",
       "    .dataframe thead th {\n",
       "        text-align: right;\n",
       "    }\n",
       "</style>\n",
       "<table border=\"1\" class=\"dataframe\">\n",
       "  <thead>\n",
       "    <tr style=\"text-align: right;\">\n",
       "      <th></th>\n",
       "      <th>work_year</th>\n",
       "      <th>experience_level</th>\n",
       "      <th>employment_type</th>\n",
       "      <th>job_title</th>\n",
       "      <th>salary</th>\n",
       "      <th>salary_currency</th>\n",
       "      <th>salary_in_usd</th>\n",
       "      <th>employee_residence</th>\n",
       "      <th>remote_ratio</th>\n",
       "      <th>company_location</th>\n",
       "      <th>company_size</th>\n",
       "    </tr>\n",
       "  </thead>\n",
       "  <tbody>\n",
       "    <tr>\n",
       "      <th>0</th>\n",
       "      <td>2023</td>\n",
       "      <td>SE</td>\n",
       "      <td>FT</td>\n",
       "      <td>Principal Data Scientist</td>\n",
       "      <td>80000</td>\n",
       "      <td>EUR</td>\n",
       "      <td>85847</td>\n",
       "      <td>ES</td>\n",
       "      <td>100</td>\n",
       "      <td>ES</td>\n",
       "      <td>L</td>\n",
       "    </tr>\n",
       "    <tr>\n",
       "      <th>1</th>\n",
       "      <td>2023</td>\n",
       "      <td>MI</td>\n",
       "      <td>CT</td>\n",
       "      <td>ML Engineer</td>\n",
       "      <td>30000</td>\n",
       "      <td>USD</td>\n",
       "      <td>30000</td>\n",
       "      <td>US</td>\n",
       "      <td>100</td>\n",
       "      <td>US</td>\n",
       "      <td>S</td>\n",
       "    </tr>\n",
       "    <tr>\n",
       "      <th>2</th>\n",
       "      <td>2023</td>\n",
       "      <td>MI</td>\n",
       "      <td>CT</td>\n",
       "      <td>ML Engineer</td>\n",
       "      <td>25500</td>\n",
       "      <td>USD</td>\n",
       "      <td>25500</td>\n",
       "      <td>US</td>\n",
       "      <td>100</td>\n",
       "      <td>US</td>\n",
       "      <td>S</td>\n",
       "    </tr>\n",
       "    <tr>\n",
       "      <th>3</th>\n",
       "      <td>2023</td>\n",
       "      <td>SE</td>\n",
       "      <td>FT</td>\n",
       "      <td>Data Scientist</td>\n",
       "      <td>175000</td>\n",
       "      <td>USD</td>\n",
       "      <td>175000</td>\n",
       "      <td>CA</td>\n",
       "      <td>100</td>\n",
       "      <td>CA</td>\n",
       "      <td>M</td>\n",
       "    </tr>\n",
       "    <tr>\n",
       "      <th>4</th>\n",
       "      <td>2023</td>\n",
       "      <td>SE</td>\n",
       "      <td>FT</td>\n",
       "      <td>Data Scientist</td>\n",
       "      <td>120000</td>\n",
       "      <td>USD</td>\n",
       "      <td>120000</td>\n",
       "      <td>CA</td>\n",
       "      <td>100</td>\n",
       "      <td>CA</td>\n",
       "      <td>M</td>\n",
       "    </tr>\n",
       "  </tbody>\n",
       "</table>\n",
       "</div>"
      ],
      "text/plain": [
       "   work_year experience_level employment_type                 job_title  \\\n",
       "0       2023               SE              FT  Principal Data Scientist   \n",
       "1       2023               MI              CT               ML Engineer   \n",
       "2       2023               MI              CT               ML Engineer   \n",
       "3       2023               SE              FT            Data Scientist   \n",
       "4       2023               SE              FT            Data Scientist   \n",
       "\n",
       "   salary salary_currency  salary_in_usd employee_residence  remote_ratio  \\\n",
       "0   80000             EUR          85847                 ES           100   \n",
       "1   30000             USD          30000                 US           100   \n",
       "2   25500             USD          25500                 US           100   \n",
       "3  175000             USD         175000                 CA           100   \n",
       "4  120000             USD         120000                 CA           100   \n",
       "\n",
       "  company_location company_size  \n",
       "0               ES            L  \n",
       "1               US            S  \n",
       "2               US            S  \n",
       "3               CA            M  \n",
       "4               CA            M  "
      ]
     },
     "execution_count": 1,
     "metadata": {},
     "output_type": "execute_result"
    }
   ],
   "source": [
    "import pandas as pd\n",
    "import matplotlib.pyplot as plt\n",
    "\n",
    "data = pd.read_csv(\"../raw_data/ds_salaries.csv\")\n",
    "data.head()"
   ]
  },
  {
   "cell_type": "code",
   "execution_count": 2,
   "metadata": {},
   "outputs": [
    {
     "data": {
      "text/plain": [
       "work_year\n",
       "2023    1785\n",
       "2022    1664\n",
       "2021     230\n",
       "2020      76\n",
       "Name: count, dtype: int64"
      ]
     },
     "execution_count": 2,
     "metadata": {},
     "output_type": "execute_result"
    }
   ],
   "source": [
    "data.work_year.value_counts()"
   ]
  },
  {
   "cell_type": "code",
   "execution_count": 3,
   "metadata": {},
   "outputs": [
    {
     "data": {
      "text/plain": [
       "work_year              int64\n",
       "experience_level      object\n",
       "employment_type       object\n",
       "job_title             object\n",
       "salary                 int64\n",
       "salary_currency       object\n",
       "salary_in_usd          int64\n",
       "employee_residence    object\n",
       "remote_ratio           int64\n",
       "company_location      object\n",
       "company_size          object\n",
       "dtype: object"
      ]
     },
     "execution_count": 3,
     "metadata": {},
     "output_type": "execute_result"
    }
   ],
   "source": [
    "data.dtypes"
   ]
  },
  {
   "cell_type": "markdown",
   "metadata": {},
   "source": [
    "***Salaries***"
   ]
  },
  {
   "cell_type": "code",
   "execution_count": 4,
   "metadata": {},
   "outputs": [
    {
     "data": {
      "text/plain": [
       "135000.0"
      ]
     },
     "execution_count": 4,
     "metadata": {},
     "output_type": "execute_result"
    }
   ],
   "source": [
    "data [\"salary_in_usd\"].max() #Largest Salary 30Million\n",
    "top_10_salaries = data['salary_in_usd'].nlargest(10)\n",
    "top_10_salaries\n",
    "data [\"salary_in_usd\"].median() # median is 135000"
   ]
  },
  {
   "cell_type": "code",
   "execution_count": 5,
   "metadata": {},
   "outputs": [
    {
     "data": {
      "image/png": "[encoded data removed]",
      "text/plain": [
       "<Figure size 1000x600 with 1 Axes>"
      ]
     },
     "metadata": {},
     "output_type": "display_data"
    }
   ],
   "source": [
    "import seaborn as sns\n",
    "import matplotlib.pyplot as plt\n",
    "\n",
    "plt.figure(figsize=(10,6))\n",
    "sns.histplot(data[\"salary_in_usd\"], bins=15)\n",
    "plt.xticks(rotation=45)\n",
    "\n",
    "plt.title('Salary Distribution')\n",
    "plt.xlabel('Salaries in USD')\n",
    "plt.ylabel('Amount')\n",
    "\n",
    "plt.show()"
   ]
  },
  {
   "cell_type": "code",
   "execution_count": 6,
   "metadata": {},
   "outputs": [
    {
     "data": {
      "image/png": "[encoded data removed]",
      "text/plain": [
       "<Figure size 1000x600 with 1 Axes>"
      ]
     },
     "metadata": {},
     "output_type": "display_data"
    }
   ],
   "source": [
    "plt.figure(figsize=(10,6))\n",
    "sns.histplot(data[\"salary_in_usd\"], bins=15)\n",
    "plt.xticks(rotation=45)\n",
    "\n",
    "plt.title('Salary Distribution')\n",
    "plt.xlabel('Salaries in USD')\n",
    "plt.ylabel('Amount')\n",
    "\n",
    "plt.show()"
   ]
  },
  {
   "cell_type": "markdown",
   "metadata": {},
   "source": [
    "***Job Titles***"
   ]
  },
  {
   "cell_type": "code",
   "execution_count": 7,
   "metadata": {},
   "outputs": [
    {
     "name": "stdout",
     "output_type": "stream",
     "text": [
      "\n",
      "Cluster für 'Scientist':\n",
      "Principal Data Scientist\n",
      "Data Scientist\n",
      "Applied Scientist\n",
      "Research Scientist\n",
      "Applied Data Scientist\n",
      "Machine Learning Scientist\n",
      "AI Scientist\n",
      "Applied Machine Learning Scientist\n",
      "Lead Data Scientist\n",
      "Data Scientist Lead\n",
      "Product Data Scientist\n",
      "Staff Data Scientist\n",
      "\n",
      "Cluster für 'Machine':\n",
      "Machine Learning Engineer\n",
      "Applied Machine Learning Engineer\n",
      "Machine Learning Researcher\n",
      "Machine Learning Scientist\n",
      "Applied Machine Learning Scientist\n",
      "Machine Learning Infrastructure Engineer\n",
      "Machine Learning Software Engineer\n",
      "Machine Learning Research Engineer\n",
      "Machine Learning Developer\n",
      "Principal Machine Learning Engineer\n",
      "Machine Learning Manager\n",
      "Lead Machine Learning Engineer\n",
      "Head of Machine Learning\n",
      "\n",
      "Cluster für 'Analyst':\n",
      "Data Analyst\n",
      "Data Quality Analyst\n",
      "Compliance Data Analyst\n",
      "Business Data Analyst\n",
      "Staff Data Analyst\n",
      "Lead Data Analyst\n",
      "Financial Data Analyst\n",
      "BI Analyst\n",
      "BI Data Analyst\n",
      "Insight Analyst\n",
      "Product Data Analyst\n",
      "Data Operations Analyst\n",
      "Marketing Data Analyst\n",
      "Principal Data Analyst\n",
      "Finance Data Analyst\n",
      "\n",
      "Cluster für 'AI':\n",
      "AI Developer\n",
      "AI Scientist\n",
      "AI Programmer\n",
      "\n",
      "Cluster für 'BI':\n",
      "Big Data Engineer\n",
      "BI Data Engineer\n",
      "BI Developer\n",
      "BI Analyst\n",
      "BI Data Analyst\n",
      "Big Data Architect\n",
      "Power BI Developer\n",
      "\n",
      "Cluster für 'Engineer':\n",
      "ML Engineer\n",
      "Research Engineer\n",
      "Analytics Engineer\n",
      "Business Intelligence Engineer\n",
      "Machine Learning Engineer\n",
      "Data Engineer\n",
      "Computer Vision Engineer\n",
      "Applied Machine Learning Engineer\n",
      "ETL Engineer\n",
      "Data DevOps Engineer\n",
      "Big Data Engineer\n",
      "BI Data Engineer\n",
      "MLOps Engineer\n",
      "Cloud Database Engineer\n",
      "Data Infrastructure Engineer\n",
      "Software Data Engineer\n",
      "Data Operations Engineer\n",
      "Machine Learning Infrastructure Engineer\n",
      "Deep Learning Engineer\n",
      "Machine Learning Software Engineer\n",
      "Computer Vision Software Engineer\n",
      "Azure Data Engineer\n",
      "Marketing Data Engineer\n",
      "Data Science Engineer\n",
      "Machine Learning Research Engineer\n",
      "NLP Engineer\n",
      "Principal Machine Learning Engineer\n",
      "Data Analytics Engineer\n",
      "Cloud Data Engineer\n",
      "Lead Machine Learning Engineer\n",
      "Lead Data Engineer\n",
      "Principal Data Engineer\n",
      "\n",
      "Cluster für 'Research':\n",
      "Research Engineer\n",
      "Research Scientist\n",
      "Machine Learning Researcher\n",
      "Deep Learning Researcher\n",
      "Machine Learning Research Engineer\n",
      "3D Computer Vision Researcher\n",
      "\n",
      "Cluster für 'Analytics':\n",
      "Analytics Engineer\n",
      "Data Analytics Manager\n",
      "Data Analytics Specialist\n",
      "Data Analytics Lead\n",
      "Data Analytics Engineer\n",
      "Data Analytics Consultant\n",
      "\n",
      "Cluster für 'Vision':\n",
      "Computer Vision Engineer\n",
      "Computer Vision Software Engineer\n",
      "3D Computer Vision Researcher\n",
      "\n",
      "Cluster für 'Architect':\n",
      "Data Architect\n",
      "Big Data Architect\n",
      "Principal Data Architect\n",
      "Cloud Data Architect\n",
      "\n",
      "Cluster für 'Developer':\n",
      "AI Developer\n",
      "BI Developer\n",
      "Machine Learning Developer\n",
      "Power BI Developer\n",
      "ETL Developer\n",
      "\n",
      "Cluster für 'Manager':\n",
      "Data Analytics Manager\n",
      "Data Science Manager\n",
      "Data Manager\n",
      "Manager Data Management\n",
      "Machine Learning Manager\n",
      "\n",
      "Cluster für 'Head':\n",
      "Head of Data\n",
      "Head of Data Science\n",
      "Head of Machine Learning\n",
      "\n",
      "Cluster für 'Lead':\n",
      "Lead Data Analyst\n",
      "Lead Data Scientist\n",
      "Data Science Lead\n",
      "Data Analytics Lead\n",
      "Data Lead\n",
      "Data Science Tech Lead\n",
      "Data Scientist Lead\n",
      "Lead Machine Learning Engineer\n",
      "Lead Data Engineer\n",
      "\n",
      "Cluster für 'Cloud':\n",
      "Cloud Database Engineer\n",
      "Cloud Data Engineer\n",
      "Cloud Data Architect\n",
      "\n",
      "Cluster für 'Specialist':\n",
      "Data Specialist\n",
      "Data Analytics Specialist\n",
      "Data Management Specialist\n",
      "\n",
      "Cluster für 'Principal':\n",
      "Principal Data Scientist\n",
      "Principal Machine Learning Engineer\n",
      "Principal Data Architect\n",
      "Principal Data Analyst\n",
      "Principal Data Engineer\n",
      "\n",
      "Cluster für 'Others':\n",
      "Data Modeler\n",
      "Data Strategist\n",
      "Director of Data Science\n",
      "Autonomous Vehicle Technician\n",
      "Data Science Consultant\n"
     ]
    }
   ],
   "source": [
    "from sklearn.feature_extraction.text import TfidfVectorizer\n",
    "from sklearn.cluster import KMeans\n",
    "\n",
    "job_titles = data[\"job_title\"].unique()\n",
    "job_titles\n",
    "\n",
    "# keywords\n",
    "keywords = [\"Scientist\",  \"Machine\", \"Analyst\", \"AI\", \"BI\", \"Engineer\", \"Research\", \"Analytics\", \"Vision\", \"Architect\", \"Developer\", \"Manager\", \"Head\", \"Lead\", \"Cloud\", \"Specialist\", \"Principal\"]\n",
    "\n",
    "# create dictionary\n",
    "clusters = {keyword: [] for keyword in keywords}\n",
    "clusters[\"Others\"] = []\n",
    "\n",
    "# assign job titles\n",
    "for title in job_titles:\n",
    "    matched = False\n",
    "    for keyword in keywords:\n",
    "        if keyword.lower() in title.lower():\n",
    "            clusters[keyword].append(title)\n",
    "            matched = True\n",
    "    if not matched:\n",
    "        clusters[\"Others\"].append(title)\n",
    "\n",
    "# Ausgabe der Cluster\n",
    "for keyword, titles in clusters.items():\n",
    "    print(f\"\\nCluster für '{keyword}':\")\n",
    "    for title in titles:\n",
    "        print(title)"
   ]
  },
  {
   "cell_type": "markdown",
   "metadata": {},
   "source": [
    "*** Charts: Countries, Job titles etc.  ***"
   ]
  },
  {
   "cell_type": "code",
   "execution_count": 8,
   "metadata": {},
   "outputs": [
    {
     "ename": "NameError",
     "evalue": "name 'employment_type_counts' is not defined",
     "output_type": "error",
     "traceback": [
      "\u001b[0;31m---------------------------------------------------------------------------\u001b[0m",
      "\u001b[0;31mNameError\u001b[0m                                 Traceback (most recent call last)",
      "Cell \u001b[0;32mIn[8], line 5\u001b[0m\n\u001b[1;32m      1\u001b[0m employment_type_percentages \u001b[38;5;241m=\u001b[39m data[\u001b[38;5;124m\"\u001b[39m\u001b[38;5;124memployment_type\u001b[39m\u001b[38;5;124m\"\u001b[39m]\u001b[38;5;241m.\u001b[39mvalue_counts(normalize\u001b[38;5;241m=\u001b[39m\u001b[38;5;28;01mTrue\u001b[39;00m) \u001b[38;5;241m*\u001b[39m \u001b[38;5;241m100\u001b[39m\n\u001b[1;32m      4\u001b[0m plt\u001b[38;5;241m.\u001b[39mfigure(figsize\u001b[38;5;241m=\u001b[39m(\u001b[38;5;241m10\u001b[39m,\u001b[38;5;241m6\u001b[39m))\n\u001b[0;32m----> 5\u001b[0m plt\u001b[38;5;241m.\u001b[39mpie(\u001b[43memployment_type_counts\u001b[49m, labels\u001b[38;5;241m=\u001b[39memployment_type_counts\u001b[38;5;241m.\u001b[39mindex, autopct\u001b[38;5;241m=\u001b[39m\u001b[38;5;124m'\u001b[39m\u001b[38;5;132;01m%1.1f\u001b[39;00m\u001b[38;5;132;01m%%\u001b[39;00m\u001b[38;5;124m'\u001b[39m)\n\u001b[1;32m      6\u001b[0m plt\u001b[38;5;241m.\u001b[39mtitle(\u001b[38;5;124m\"\u001b[39m\u001b[38;5;124mEmployment Type\u001b[39m\u001b[38;5;124m\"\u001b[39m)\n\u001b[1;32m      7\u001b[0m plt\u001b[38;5;241m.\u001b[39mshow()\n",
      "\u001b[0;31mNameError\u001b[0m: name 'employment_type_counts' is not defined"
     ]
    },
    {
     "data": {
      "text/plain": [
       "<Figure size 1000x600 with 0 Axes>"
      ]
     },
     "metadata": {},
     "output_type": "display_data"
    }
   ],
   "source": [
    "employment_type_percentages = data[\"employment_type\"].value_counts(normalize=True) * 100\n",
    "\n",
    "\n",
    "plt.figure(figsize=(10,6))\n",
    "plt.pie(employment_type_counts, labels=employment_type_counts.index, autopct='%1.1f%%')\n",
    "plt.title(\"Employment Type\")\n",
    "plt.show()\n",
    "\n",
    "employment_type_percentages"
   ]
  },
  {
   "cell_type": "code",
   "execution_count": null,
   "metadata": {},
   "outputs": [],
   "source": [
    "experience_level_percentages = data[\"experience_level\"].value_counts(normalize=True) * 100\n",
    "\n",
    "\n",
    "plt.figure(figsize=(10,6))\n",
    "plt.pie(experience_level_percentages, labels=experience_level_percentages.index, autopct='%1.1f%%')\n",
    "plt.title(\"experience_level_percentages\")\n",
    "plt.legend()\n",
    "plt.show()\n",
    "\n",
    "experience_level_percentages"
   ]
  },
  {
   "cell_type": "code",
   "execution_count": null,
   "metadata": {},
   "outputs": [],
   "source": []
  },
  {
   "cell_type": "code",
   "execution_count": null,
   "metadata": {},
   "outputs": [],
   "source": []
  },
  {
   "cell_type": "code",
   "execution_count": null,
   "metadata": {},
   "outputs": [],
   "source": []
  },
  {
   "cell_type": "code",
   "execution_count": null,
   "metadata": {},
   "outputs": [],
   "source": []
  },
  {
   "cell_type": "code",
   "execution_count": null,
   "metadata": {},
   "outputs": [],
   "source": []
  },
  {
   "cell_type": "code",
   "execution_count": null,
   "metadata": {},
   "outputs": [],
   "source": []
  },
  {
   "cell_type": "code",
   "execution_count": null,
   "metadata": {},
   "outputs": [],
   "source": []
  },
  {
   "cell_type": "markdown",
   "metadata": {},
   "source": [
    "***Cleaning, Outliers etc...***"
   ]
  },
  {
   "cell_type": "code",
   "execution_count": null,
   "metadata": {},
   "outputs": [],
   "source": [
    "# data.isnull().sum() --> no missing data!\n",
    "data.boxplot() # Salary has outliers. "
   ]
  },
  {
   "cell_type": "code",
   "execution_count": null,
   "metadata": {},
   "outputs": [],
   "source": [
    "data.duplicated().sum() # Are these really duplicates? What to do? "
   ]
  },
  {
   "cell_type": "markdown",
   "metadata": {},
   "source": [
    "***Scaling the data***"
   ]
  },
  {
   "cell_type": "code",
   "execution_count": null,
   "metadata": {},
   "outputs": [],
   "source": [
    "X = data.drop(columns=[\"salary\", \"salary_currency\", \"salary_in_usd\"])\n",
    "y = data [\"salary_in_usd\"]\n",
    "X"
   ]
  },
  {
   "cell_type": "code",
   "execution_count": null,
   "metadata": {},
   "outputs": [],
   "source": []
  },
  {
   "cell_type": "markdown",
   "metadata": {},
   "source": [
    "We only scale X, there only the column remote_ratio contains numerical values (100,   0,  50). If scaling is necessary depends on the ML model. \n",
    "\n",
    "We don't scale y.... But in case we need to: salary contains outliers, therefore Robust Scaler is the best choice. "
   ]
  },
  {
   "cell_type": "markdown",
   "metadata": {},
   "source": [
    "Sjoerd: \n",
    "- work_year how to treat it?\n",
    "- encode all columns and then scale them toghether, or create two pipelines? \n"
   ]
  },
  {
   "cell_type": "markdown",
   "metadata": {},
   "source": [
    "***Encoding the data***"
   ]
  },
  {
   "cell_type": "markdown",
   "metadata": {},
   "source": [
    "\n",
    "Colums without order: \n",
    "- One hot encoder\n",
    "- Job_title, employee_residence,company_location\n",
    "\n",
    "Columns with order: \n",
    "- work_year, experience_level, employment_type, remote_ratio, company_size\n",
    "- size mapping, e.g. for company size: \n",
    "size_mapping = {'S': 1, 'M': 2, 'L': 3, 'XL': 4, 'XXL': 5}\n",
    "\n",
    "--> After Encoding; Setup a preprocessing pipeline, to encode all features. "
   ]
  },
  {
   "cell_type": "code",
   "execution_count": null,
   "metadata": {},
   "outputs": [],
   "source": [
    "from sklearn.preprocessing import OneHotEncoder\n",
    "import pandas as pd\n",
    "import numpy as np\n",
    "\n",
    "# Columns to encode\n",
    "encode_columns = [\"experience_level\", \"employment_type\", \"job_title\", \"employee_residence\"]\n",
    "\n",
    "# Instantiate Encoder\n",
    "ohe = OneHotEncoder()\n",
    "\n",
    "# Fit and transform Encoder\n",
    "encoded_columns = ohe.fit_transform(data[encode_columns]).toarray()\n",
    "\n",
    "# create dataframe\n",
    "encoded_df = pd.DataFrame(encoded_columns, columns=ohe.get_feature_names_out(encode_columns))\n",
    "\n",
    "# drop original columns from data\n",
    "data_encoded = data.drop(columns=encode_columns)\n",
    "\n",
    "# add encoded columns to data\n",
    "data_encoded = pd.concat([data, encoded_df], axis=1)\n",
    "data_encoded\n"
   ]
  },
  {
   "cell_type": "code",
   "execution_count": null,
   "metadata": {},
   "outputs": [],
   "source": [
    "import pandas as pd\n",
    "import matplotlib.pyplot as plt\n",
    "\n",
    "# Plotting the distribution of the experience_level column\n",
    "plt.figure(figsize=(10, 5))\n",
    "experience_counts = data['experience_level'].value_counts()\n",
    "experience_counts.plot(kind='bar', color='skyblue')\n",
    "plt.title('Distribution of Experience Level')\n",
    "plt.xlabel('Experience Level')\n",
    "plt.ylabel('Count')\n",
    "plt.xticks(rotation=0)\n",
    "plt.show()\n",
    "\n",
    "# Plotting the distribution of the employment_type column\n",
    "plt.figure(figsize=(10, 5))\n",
    "employment_counts = data['employment_type'].value_counts()\n",
    "employment_counts.plot(kind='bar', color='lightgreen')\n",
    "plt.title('Distribution of Employment Type')\n",
    "plt.xlabel('Employment Type')\n",
    "plt.ylabel('Count')\n",
    "plt.xticks(rotation=0)\n",
    "plt.show()\n"
   ]
  },
  {
   "cell_type": "code",
   "execution_count": null,
   "metadata": {},
   "outputs": [],
   "source": [
    "# Filter the dataset for Entry-level / Junior (EN)\n",
    "entry_level_data = data[data['experience_level'] == 'EN']\n",
    "\n",
    "# Define custom salary ranges (bins) and labels\n",
    "bins = [0, 30000, 50000, 80000, 110000, float('inf')]\n",
    "labels = ['0-30k', '30-50k', '50-80k', '80-110k', '110k+']\n",
    "\n",
    "# Bin the salary data into the defined ranges\n",
    "entry_level_data['salary_range'] = pd.cut(entry_level_data['salary'], bins=bins, labels=labels, right=False)\n",
    "\n",
    "# Count the occurrences of each salary range\n",
    "salary_range_counts = entry_level_data['salary_range'].value_counts().sort_index()\n",
    "\n",
    "# Plotting the number of occurrences of each salary range for Entry-level / Junior using a bar plot\n",
    "plt.figure(figsize=(14, 7))\n",
    "sns.barplot(x=salary_range_counts.index, y=salary_range_counts.values, palette='pastel')\n",
    "plt.title('Salary Distribution for Entry-level / Junior')\n",
    "plt.xlabel('Salary Range')\n",
    "plt.ylabel('Number of Occurrences')\n",
    "plt.xticks(rotation=45)\n",
    "plt.show()"
   ]
  },
  {
   "cell_type": "code",
   "execution_count": null,
   "metadata": {},
   "outputs": [],
   "source": [
    "# Define the function to categorize remote ratios\n",
    "def categorize_remote_ratio(ratio):\n",
    "    if ratio == 0:\n",
    "        return 'In-Office'\n",
    "    elif ratio == 100:\n",
    "        return 'Remote'\n",
    "    else:\n",
    "        return 'Hybrid'\n",
    "\n",
    "# Apply the function to create a new 'remote_category' column\n",
    "data['remote_category'] = data['remote_ratio'].apply(categorize_remote_ratio)\n",
    "\n",
    "# Count the occurrences of each salary for each experience level and remote category\n",
    "salary_counts = data.groupby(['salary', 'experience_level', 'remote_category']).size().reset_index(name='count')\n",
    "\n",
    "# Plotting\n",
    "plt.figure(figsize=(14, 7))\n",
    "sns.scatterplot(\n",
    "    x='salary', \n",
    "    y='count', \n",
    "    hue='experience_level', \n",
    "    style='remote_category', \n",
    "    data=salary_counts, \n",
    "    palette='deep', \n",
    "    markers=['o', 's', 'D'],  # Circle, square, diamond markers\n",
    "    s=100  # Marker size\n",
    ")\n",
    "\n",
    "plt.title('Impact of Remote Positions on Salary for Different Experience Levels')\n",
    "plt.xlabel('Salary')\n",
    "plt.ylabel('Number of Occurrences')\n",
    "plt.legend(title='Experience Level / Remote Category')\n",
    "plt.grid(True)\n",
    "plt.show()"
   ]
  },
  {
   "cell_type": "code",
   "execution_count": 10,
   "metadata": {},
   "outputs": [
    {
     "data": {
      "text/plain": [
       "Index(['work_year', 'experience_level', 'employment_type', 'job_title',\n",
       "       'salary', 'salary_currency', 'salary_in_usd', 'employee_residence',\n",
       "       'remote_ratio', 'company_location', 'company_size'],\n",
       "      dtype='object')"
      ]
     },
     "execution_count": 10,
     "metadata": {},
     "output_type": "execute_result"
    }
   ],
   "source": [
    "data.columns"
   ]
  },
  {
   "cell_type": "code",
   "execution_count": 15,
   "metadata": {},
   "outputs": [
    {
     "name": "stdout",
     "output_type": "stream",
     "text": [
      "company_location\n",
      "US    3040\n",
      "GB     172\n",
      "CA      87\n",
      "ES      77\n",
      "IN      58\n",
      "      ... \n",
      "BS       1\n",
      "IR       1\n",
      "CR       1\n",
      "AL       1\n",
      "BA       1\n",
      "Name: count, Length: 72, dtype: int64\n"
     ]
    },
    {
     "name": "stderr",
     "output_type": "stream",
     "text": [
      "/tmp/ipykernel_150937/2799511904.py:11: FutureWarning: \n",
      "\n",
      "Passing `palette` without assigning `hue` is deprecated and will be removed in v0.14.0. Assign the `x` variable to `hue` and set `legend=False` for the same effect.\n",
      "\n",
      "  sns.barplot(x=country_counts.index, y=country_counts.values, palette='viridis')\n"
     ]
    },
    {
     "data": {
      "image/png": "[encoded data removed]",
      "text/plain": [
       "<Figure size 1400x700 with 1 Axes>"
      ]
     },
     "metadata": {},
     "output_type": "display_data"
    }
   ],
   "source": [
    "# Count the number of entries for each country\n",
    "country_counts = data['company_location'].value_counts()\n",
    "\n",
    "# Display the counts (optional)\n",
    "print(country_counts)\n",
    "\n",
    "# Set the figure size\n",
    "plt.figure(figsize=(14, 7))\n",
    "\n",
    "# Create a bar plot of the number of entries for each country\n",
    "sns.barplot(x=country_counts.index, y=country_counts.values, palette='viridis')\n",
    "\n",
    "# Set plot title and labels\n",
    "plt.title('Number of Entries from Each Country')\n",
    "plt.xlabel('Country')\n",
    "plt.ylabel('Number of Entries')\n",
    "plt.xticks(rotation=45)  # Rotate the x labels for better readability\n",
    "\n",
    "# Display the plot\n",
    "plt.show()"
   ]
  },
  {
   "cell_type": "code",
   "execution_count": 16,
   "metadata": {},
   "outputs": [
    {
     "data": {
      "text/plain": [
       "company_location\n",
       "US    3040\n",
       "GB     172\n",
       "CA      87\n",
       "ES      77\n",
       "IN      58\n",
       "DE      56\n",
       "FR      34\n",
       "BR      15\n",
       "GR      14\n",
       "AU      14\n",
       "PT      14\n",
       "NL      13\n",
       "MX      10\n",
       "IE       7\n",
       "AT       6\n",
       "Name: count, dtype: int64"
      ]
     },
     "execution_count": 16,
     "metadata": {},
     "output_type": "execute_result"
    }
   ],
   "source": [
    "country_counts.head(15)"
   ]
  },
  {
   "cell_type": "code",
   "execution_count": 17,
   "metadata": {},
   "outputs": [
    {
     "name": "stdout",
     "output_type": "stream",
     "text": [
      "Number of entries with different employee residence and company location: 96\n"
     ]
    }
   ],
   "source": [
    "# Create a boolean mask where employee_residence is different from company_location\n",
    "mismatch_mask = data['employee_residence'] != data['company_location']\n",
    "\n",
    "# Count the number of mismatches\n",
    "mismatch_count = mismatch_mask.sum()\n",
    "\n",
    "# Display the count of mismatches\n",
    "print(f'Number of entries with different employee residence and company location: {mismatch_count}')"
   ]
  },
  {
   "cell_type": "code",
   "execution_count": 18,
   "metadata": {},
   "outputs": [
    {
     "name": "stderr",
     "output_type": "stream",
     "text": [
      "/tmp/ipykernel_150937/2736480727.py:9: FutureWarning: \n",
      "\n",
      "Passing `palette` without assigning `hue` is deprecated and will be removed in v0.14.0. Assign the `x` variable to `hue` and set `legend=False` for the same effect.\n",
      "\n",
      "  sns.barplot(x='Mismatch Type', y='Count', data=mismatch_data, palette='viridis')\n"
     ]
    },
    {
     "data": {
      "image/png": "[encoded data removed]",
      "text/plain": [
       "<Figure size 1000x600 with 1 Axes>"
      ]
     },
     "metadata": {},
     "output_type": "display_data"
    }
   ],
   "source": [
    "# Create a DataFrame with mismatch counts\n",
    "mismatch_data = pd.DataFrame({\n",
    "    'Mismatch Type': ['Same Location', 'Different Location'],\n",
    "    'Count': [len(data) - mismatch_count, mismatch_count]\n",
    "})\n",
    "\n",
    "# Plotting\n",
    "plt.figure(figsize=(10, 6))\n",
    "sns.barplot(x='Mismatch Type', y='Count', data=mismatch_data, palette='viridis')\n",
    "plt.title('Comparison of Employee Residence and Company Location')\n",
    "plt.xlabel('Mismatch Type')\n",
    "plt.ylabel('Count')\n",
    "plt.show()"
   ]
  }
 ],
 "metadata": {
  "kernelspec": {
   "display_name": "Python 3 (ipykernel)",
   "language": "python",
   "name": "python3"
  },
  "language_info": {
   "codemirror_mode": {
    "name": "ipython",
    "version": 3
   },
   "file_extension": ".py",
   "mimetype": "text/x-python",
   "name": "python",
   "nbconvert_exporter": "python",
   "pygments_lexer": "ipython3",
   "version": "3.10.6"
  }
 },
 "nbformat": 4,
 "nbformat_minor": 4
}
