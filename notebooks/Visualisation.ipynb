{
 "cells": [
  {
   "cell_type": "code",
   "execution_count": 1,
   "id": "d18bae42-c02e-4f09-aaae-07778cbdffd8",
   "metadata": {},
   "outputs": [],
   "source": [
    "import pandas as pd\n",
    "import matplotlib.pyplot as plt\n",
    "import seaborn as sns"
   ]
  },
  {
   "cell_type": "code",
   "execution_count": 2,
   "id": "3e7ff2f3-2f39-4343-a153-3b642ea265f2",
   "metadata": {},
   "outputs": [],
   "source": [
    "data1 = pd.read_csv(\"../raw_data/ds_salaries.csv\")\n",
    "data2 = pd.read_csv(\"../raw_data/data_cleaned_2021.csv\")"
   ]
  },
  {
   "cell_type": "code",
   "execution_count": 3,
   "id": "fd35d68e-b6a8-47e6-b5e2-547abe3ccfc2",
   "metadata": {},
   "outputs": [
    {
     "name": "stdout",
     "output_type": "stream",
     "text": [
      "Data 1:\n",
      "   work_year experience_level employment_type                 job_title  \\\n",
      "0       2023               SE              FT  Principal Data Scientist   \n",
      "1       2023               MI              CT               ML Engineer   \n",
      "2       2023               MI              CT               ML Engineer   \n",
      "3       2023               SE              FT            Data Scientist   \n",
      "4       2023               SE              FT            Data Scientist   \n",
      "\n",
      "   salary salary_currency  salary_in_usd employee_residence  remote_ratio  \\\n",
      "0   80000             EUR          85847                 ES           100   \n",
      "1   30000             USD          30000                 US           100   \n",
      "2   25500             USD          25500                 US           100   \n",
      "3  175000             USD         175000                 CA           100   \n",
      "4  120000             USD         120000                 CA           100   \n",
      "\n",
      "  company_location company_size  \n",
      "0               ES            L  \n",
      "1               US            S  \n",
      "2               US            S  \n",
      "3               CA            M  \n",
      "4               CA            M  \n",
      "\n",
      "Data 2:\n",
      "   index                  Job Title              Salary Estimate  \\\n",
      "0      0             Data Scientist   $53K-$91K (Glassdoor est.)   \n",
      "1      1  Healthcare Data Scientist  $63K-$112K (Glassdoor est.)   \n",
      "2      2             Data Scientist   $80K-$90K (Glassdoor est.)   \n",
      "3      3             Data Scientist   $56K-$97K (Glassdoor est.)   \n",
      "4      4             Data Scientist  $86K-$143K (Glassdoor est.)   \n",
      "\n",
      "                                     Job Description  Rating  \\\n",
      "0  Data Scientist\\nLocation: Albuquerque, NM\\nEdu...     3.8   \n",
      "1  What You Will Do:\\n\\nI. General Summary\\n\\nThe...     3.4   \n",
      "2  KnowBe4, Inc. is a high growth information sec...     4.8   \n",
      "3  *Organization and Job ID**\\nJob ID: 310709\\n\\n...     3.8   \n",
      "4  Data Scientist\\nAffinity Solutions / Marketing...     2.9   \n",
      "\n",
      "                                 Company Name         Location  \\\n",
      "0                      Tecolote Research\\n3.8  Albuquerque, NM   \n",
      "1  University of Maryland Medical System\\n3.4    Linthicum, MD   \n",
      "2                                KnowBe4\\n4.8   Clearwater, FL   \n",
      "3                                   PNNL\\n3.8     Richland, WA   \n",
      "4                     Affinity Solutions\\n2.9     New York, NY   \n",
      "\n",
      "     Headquarters          Size  Founded  ... tensor hadoop tableau bi flink  \\\n",
      "0      Goleta, CA   501 - 1000      1973  ...      0      0       1  1     0   \n",
      "1   Baltimore, MD       10000+      1984  ...      0      0       0  0     0   \n",
      "2  Clearwater, FL   501 - 1000      2010  ...      0      0       0  0     0   \n",
      "3    Richland, WA  1001 - 5000      1965  ...      0      0       0  0     0   \n",
      "4    New York, NY     51 - 200      1998  ...      0      0       0  0     0   \n",
      "\n",
      "   mongo  google_an   job_title_sim  seniority_by_title  Degree  \n",
      "0      0          0  data scientist                  na       M  \n",
      "1      0          0  data scientist                  na       M  \n",
      "2      0          0  data scientist                  na       M  \n",
      "3      0          0  data scientist                  na      na  \n",
      "4      0          0  data scientist                  na      na  \n",
      "\n",
      "[5 rows x 42 columns]\n"
     ]
    }
   ],
   "source": [
    "print(\"Data 1:\")\n",
    "print(data1.head())\n",
    "print(\"\\nData 2:\")\n",
    "print(data2.head())"
   ]
  },
  {
   "cell_type": "code",
   "execution_count": 4,
   "id": "af59ea2a-9663-4e93-8d28-61a3fd101161",
   "metadata": {},
   "outputs": [
    {
     "name": "stdout",
     "output_type": "stream",
     "text": [
      "Il n'y a pas de doublons dans la base de données.\n"
     ]
    }
   ],
   "source": [
    "# Vérification des doublons\n",
    "doublons = data2.duplicated().sum()\n",
    "if doublons > 0:\n",
    "    print(\"Il y a\", doublons, \"doublons dans la base de données.\")\n",
    "else:\n",
    "    print(\"Il n'y a pas de doublons dans la base de données.\")"
   ]
  },
  {
   "cell_type": "code",
   "execution_count": 5,
   "id": "391bc50f-bb89-43b4-9e46-0299062a0833",
   "metadata": {},
   "outputs": [
    {
     "name": "stdout",
     "output_type": "stream",
     "text": [
      "Il n'y a pas de valeurs manquantes dans la base de données.\n"
     ]
    }
   ],
   "source": [
    "# Vérification des valeurs manquantes\n",
    "valeurs_manquantes = data2.isnull().sum().sum()\n",
    "if valeurs_manquantes > 0:\n",
    "    print(\"Il y a\", valeurs_manquantes, \"valeurs manquantes dans la base de données.\")\n",
    "else:\n",
    "    print(\"Il n'y a pas de valeurs manquantes dans la base de données.\")"
   ]
  },
  {
   "cell_type": "code",
   "execution_count": 6,
   "id": "bddc0a10-2daa-4806-9c0e-15ee1778cb85",
   "metadata": {},
   "outputs": [
    {
     "name": "stdout",
     "output_type": "stream",
     "text": [
      "Colonnes de data2:\n",
      "Index(['index', 'Job Title', 'Salary Estimate', 'Job Description', 'Rating',\n",
      "       'Company Name', 'Location', 'Headquarters', 'Size', 'Founded',\n",
      "       'Type of ownership', 'Industry', 'Sector', 'Revenue', 'Competitors',\n",
      "       'Hourly', 'Employer provided', 'Lower Salary', 'Upper Salary',\n",
      "       'Avg Salary(K)', 'company_txt', 'Job Location', 'Age', 'Python',\n",
      "       'spark', 'aws', 'excel', 'sql', 'sas', 'keras', 'pytorch', 'scikit',\n",
      "       'tensor', 'hadoop', 'tableau', 'bi', 'flink', 'mongo', 'google_an',\n",
      "       'job_title_sim', 'seniority_by_title', 'Degree'],\n",
      "      dtype='object')\n"
     ]
    }
   ],
   "source": [
    "# Afficher les colonnes pour vérifier les noms\n",
    "print(\"Colonnes de data2:\")\n",
    "print(data2.columns)"
   ]
  },
  {
   "cell_type": "code",
   "execution_count": 7,
   "id": "c27ff4e0-19b2-4034-9623-37a77d4fb234",
   "metadata": {},
   "outputs": [],
   "source": [
    "# Sélectionner les colonnes pertinentes\n",
    "tool_columns = ['Python', 'spark', 'aws', 'excel', 'sql', 'sas', 'keras', 'pytorch', 'scikit', 'tensor', 'hadoop', 'tableau', 'bi', 'flink', 'mongo', 'google_an']\n",
    "selected_columns = tool_columns + ['Job Title', 'Salary', 'Experience', 'Company', 'Location']\n",
    "\n",
    "# Vérifier si les colonnes existent dans le dataset\n",
    "available_columns = [col for col in selected_columns if col in data2.columns]\n",
    "\n",
    "# Filtrer les données pour ne garder que les colonnes disponibles\n",
    "data2_tools = data2[available_columns]\n",
    "\n",
    "# Créer un diagramme en barres pour les outils les plus couramment utilisés\n",
    "tool_counts = data2_tools[tool_columns].apply(pd.Series.value_counts).sum(axis=1).sort_values(ascending=False)"
   ]
  },
  {
   "cell_type": "code",
   "execution_count": 8,
   "id": "1c2b3954-e81f-4705-99c7-c71f6d74ec73",
   "metadata": {},
   "outputs": [
    {
     "data": {
      "image/png": "[encoded data removed]",
      "text/plain": [
       "<Figure size 1000x600 with 1 Axes>"
      ]
     },
     "metadata": {},
     "output_type": "display_data"
    }
   ],
   "source": [
    "# Diagramme en barres des 10 premiers outils les plus couramment utilisés\n",
    "top_tools = tool_counts.head(10)\n",
    "plt.figure(figsize=(10, 6))\n",
    "top_tools.plot(kind='bar')\n",
    "plt.title('Les 10 premiers outils informatiques les plus couramment utilisés')\n",
    "plt.xlabel('Outils')\n",
    "plt.ylabel('Nombre d\\'occurrences')\n",
    "plt.xticks(rotation=45)\n",
    "plt.show()"
   ]
  },
  {
   "cell_type": "code",
   "execution_count": 9,
   "id": "61ece45a-3d64-4e88-b37f-b7e5c80d2d7b",
   "metadata": {},
   "outputs": [
    {
     "ename": "KeyError",
     "evalue": "'tool_columns'",
     "output_type": "error",
     "traceback": [
      "\u001b[0;31m---------------------------------------------------------------------------\u001b[0m",
      "\u001b[0;31mKeyError\u001b[0m                                  Traceback (most recent call last)",
      "File \u001b[0;32m~/.pyenv/versions/3.10.6/envs/DataScientist/lib/python3.10/site-packages/pandas/core/indexes/base.py:3805\u001b[0m, in \u001b[0;36mIndex.get_loc\u001b[0;34m(self, key)\u001b[0m\n\u001b[1;32m   3804\u001b[0m \u001b[38;5;28;01mtry\u001b[39;00m:\n\u001b[0;32m-> 3805\u001b[0m     \u001b[38;5;28;01mreturn\u001b[39;00m \u001b[38;5;28;43mself\u001b[39;49m\u001b[38;5;241;43m.\u001b[39;49m\u001b[43m_engine\u001b[49m\u001b[38;5;241;43m.\u001b[39;49m\u001b[43mget_loc\u001b[49m\u001b[43m(\u001b[49m\u001b[43mcasted_key\u001b[49m\u001b[43m)\u001b[49m\n\u001b[1;32m   3806\u001b[0m \u001b[38;5;28;01mexcept\u001b[39;00m \u001b[38;5;167;01mKeyError\u001b[39;00m \u001b[38;5;28;01mas\u001b[39;00m err:\n",
      "File \u001b[0;32mindex.pyx:167\u001b[0m, in \u001b[0;36mpandas._libs.index.IndexEngine.get_loc\u001b[0;34m()\u001b[0m\n",
      "File \u001b[0;32mindex.pyx:196\u001b[0m, in \u001b[0;36mpandas._libs.index.IndexEngine.get_loc\u001b[0;34m()\u001b[0m\n",
      "File \u001b[0;32mpandas/_libs/hashtable_class_helper.pxi:7081\u001b[0m, in \u001b[0;36mpandas._libs.hashtable.PyObjectHashTable.get_item\u001b[0;34m()\u001b[0m\n",
      "File \u001b[0;32mpandas/_libs/hashtable_class_helper.pxi:7089\u001b[0m, in \u001b[0;36mpandas._libs.hashtable.PyObjectHashTable.get_item\u001b[0;34m()\u001b[0m\n",
      "\u001b[0;31mKeyError\u001b[0m: 'tool_columns'",
      "\nThe above exception was the direct cause of the following exception:\n",
      "\u001b[0;31mKeyError\u001b[0m                                  Traceback (most recent call last)",
      "Cell \u001b[0;32mIn[9], line 1\u001b[0m\n\u001b[0;32m----> 1\u001b[0m outil_counts \u001b[38;5;241m=\u001b[39m \u001b[43mdata2\u001b[49m\u001b[43m[\u001b[49m\u001b[38;5;124;43m'\u001b[39;49m\u001b[38;5;124;43mtool_columns\u001b[39;49m\u001b[38;5;124;43m'\u001b[39;49m\u001b[43m]\u001b[49m\u001b[38;5;241m.\u001b[39mvalue_counts()\n",
      "File \u001b[0;32m~/.pyenv/versions/3.10.6/envs/DataScientist/lib/python3.10/site-packages/pandas/core/frame.py:4102\u001b[0m, in \u001b[0;36mDataFrame.__getitem__\u001b[0;34m(self, key)\u001b[0m\n\u001b[1;32m   4100\u001b[0m \u001b[38;5;28;01mif\u001b[39;00m \u001b[38;5;28mself\u001b[39m\u001b[38;5;241m.\u001b[39mcolumns\u001b[38;5;241m.\u001b[39mnlevels \u001b[38;5;241m>\u001b[39m \u001b[38;5;241m1\u001b[39m:\n\u001b[1;32m   4101\u001b[0m     \u001b[38;5;28;01mreturn\u001b[39;00m \u001b[38;5;28mself\u001b[39m\u001b[38;5;241m.\u001b[39m_getitem_multilevel(key)\n\u001b[0;32m-> 4102\u001b[0m indexer \u001b[38;5;241m=\u001b[39m \u001b[38;5;28;43mself\u001b[39;49m\u001b[38;5;241;43m.\u001b[39;49m\u001b[43mcolumns\u001b[49m\u001b[38;5;241;43m.\u001b[39;49m\u001b[43mget_loc\u001b[49m\u001b[43m(\u001b[49m\u001b[43mkey\u001b[49m\u001b[43m)\u001b[49m\n\u001b[1;32m   4103\u001b[0m \u001b[38;5;28;01mif\u001b[39;00m is_integer(indexer):\n\u001b[1;32m   4104\u001b[0m     indexer \u001b[38;5;241m=\u001b[39m [indexer]\n",
      "File \u001b[0;32m~/.pyenv/versions/3.10.6/envs/DataScientist/lib/python3.10/site-packages/pandas/core/indexes/base.py:3812\u001b[0m, in \u001b[0;36mIndex.get_loc\u001b[0;34m(self, key)\u001b[0m\n\u001b[1;32m   3807\u001b[0m     \u001b[38;5;28;01mif\u001b[39;00m \u001b[38;5;28misinstance\u001b[39m(casted_key, \u001b[38;5;28mslice\u001b[39m) \u001b[38;5;129;01mor\u001b[39;00m (\n\u001b[1;32m   3808\u001b[0m         \u001b[38;5;28misinstance\u001b[39m(casted_key, abc\u001b[38;5;241m.\u001b[39mIterable)\n\u001b[1;32m   3809\u001b[0m         \u001b[38;5;129;01mand\u001b[39;00m \u001b[38;5;28many\u001b[39m(\u001b[38;5;28misinstance\u001b[39m(x, \u001b[38;5;28mslice\u001b[39m) \u001b[38;5;28;01mfor\u001b[39;00m x \u001b[38;5;129;01min\u001b[39;00m casted_key)\n\u001b[1;32m   3810\u001b[0m     ):\n\u001b[1;32m   3811\u001b[0m         \u001b[38;5;28;01mraise\u001b[39;00m InvalidIndexError(key)\n\u001b[0;32m-> 3812\u001b[0m     \u001b[38;5;28;01mraise\u001b[39;00m \u001b[38;5;167;01mKeyError\u001b[39;00m(key) \u001b[38;5;28;01mfrom\u001b[39;00m \u001b[38;5;21;01merr\u001b[39;00m\n\u001b[1;32m   3813\u001b[0m \u001b[38;5;28;01mexcept\u001b[39;00m \u001b[38;5;167;01mTypeError\u001b[39;00m:\n\u001b[1;32m   3814\u001b[0m     \u001b[38;5;66;03m# If we have a listlike key, _check_indexing_error will raise\u001b[39;00m\n\u001b[1;32m   3815\u001b[0m     \u001b[38;5;66;03m#  InvalidIndexError. Otherwise we fall through and re-raise\u001b[39;00m\n\u001b[1;32m   3816\u001b[0m     \u001b[38;5;66;03m#  the TypeError.\u001b[39;00m\n\u001b[1;32m   3817\u001b[0m     \u001b[38;5;28mself\u001b[39m\u001b[38;5;241m.\u001b[39m_check_indexing_error(key)\n",
      "\u001b[0;31mKeyError\u001b[0m: 'tool_columns'"
     ]
    }
   ],
   "source": [
    "outil_counts = data2['tool_columns'].value_counts()"
   ]
  },
  {
   "cell_type": "code",
   "execution_count": null,
   "id": "e3304535-cc7b-4213-b959-c23d60ef1f28",
   "metadata": {},
   "outputs": [],
   "source": [
    "# Heatmap des compétences corrélées\n",
    "corr = data2_tools[tool_columns].corr()\n",
    "\n",
    "plt.figure(figsize=(12, 10))\n",
    "sns.heatmap(corr, annot=True, cmap='coolwarm', linewidths=.5)\n",
    "plt.title('Heatmap des compétences corrélées')\n",
    "plt.show()"
   ]
  },
  {
   "cell_type": "code",
   "execution_count": null,
   "id": "701d8ac9-0ca4-4b38-8fe4-5f59d02e4647",
   "metadata": {},
   "outputs": [],
   "source": [
    "# Histogramme de la distribution des salaires par niveau d'expérience\n",
    "plt.figure(figsize=(10, 6))\n",
    "sns.histplot(data=data2_tools, x='Salary', hue='Experience', bins=20, multiple='stack')\n",
    "plt.title('Distribution des salaires par niveau d\\'expérience')\n",
    "plt.xlabel('Salaire')\n",
    "plt.ylabel('Nombre de salariés')\n",
    "plt.legend(title='Niveau d\\'expérience')\n",
    "plt.show()"
   ]
  },
  {
   "cell_type": "code",
   "execution_count": null,
   "id": "31add082-b9e5-420e-a3d4-525036910956",
   "metadata": {},
   "outputs": [],
   "source": [
    "# Boxplot des salaires par niveau d'expérience\n",
    "plt.figure(figsize=(10, 6))\n",
    "sns.boxplot(x='Experience', y='Salary', data=data2_tools)\n",
    "plt.title('Boxplot des salaires par niveau d\\'expérience')\n",
    "plt.xlabel('Niveau d\\'expérience')\n",
    "plt.ylabel('Salaire')\n",
    "plt.show()"
   ]
  },
  {
   "cell_type": "code",
   "execution_count": null,
   "id": "791bb98a-0e45-4f7d-88e6-7f246fa2052e",
   "metadata": {},
   "outputs": [],
   "source": [
    "# Histogramme de la distribution des salaires par localisation\n",
    "plt.figure(figsize=(10, 6))\n",
    "sns.histplot(data=data2_tools, x='Salary', hue='Location', bins=20, multiple='stack')\n",
    "plt.title('Distribution des salaires par localisation')\n",
    "plt.xlabel('Salaire')\n",
    "plt.ylabel('Nombre de salariés')\n",
    "plt.legend(title='Localisation')\n",
    "plt.show()"
   ]
  },
  {
   "cell_type": "code",
   "execution_count": null,
   "id": "01ac3f1a-98ce-4524-9747-e38ba5d34e86",
   "metadata": {},
   "outputs": [],
   "source": []
  },
  {
   "cell_type": "code",
   "execution_count": null,
   "id": "b35f59b7-73d5-43f0-b46b-12d3a87065e0",
   "metadata": {},
   "outputs": [],
   "source": []
  },
  {
   "cell_type": "code",
   "execution_count": null,
   "id": "50b78c5b-3ac9-4817-8cdb-ba6ca74742af",
   "metadata": {},
   "outputs": [],
   "source": []
  },
  {
   "cell_type": "code",
   "execution_count": null,
   "id": "579144e2-e638-4e48-9907-4839d21f8cb9",
   "metadata": {},
   "outputs": [],
   "source": []
  },
  {
   "cell_type": "code",
   "execution_count": null,
   "id": "157feac7-164f-4d3d-a038-9a0b452433ce",
   "metadata": {},
   "outputs": [],
   "source": []
  }
 ],
 "metadata": {
  "kernelspec": {
   "display_name": "Python 3 (ipykernel)",
   "language": "python",
   "name": "python3"
  },
  "language_info": {
   "codemirror_mode": {
    "name": "ipython",
    "version": 3
   },
   "file_extension": ".py",
   "mimetype": "text/x-python",
   "name": "python",
   "nbconvert_exporter": "python",
   "pygments_lexer": "ipython3",
   "version": "3.10.6"
  }
 },
 "nbformat": 4,
 "nbformat_minor": 5
}
