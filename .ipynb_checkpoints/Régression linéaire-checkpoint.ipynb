{
 "cells": [
  {
   "cell_type": "code",
   "execution_count": null,
   "id": "5c3c0572-b2d1-4e6b-97c1-ade34a1ce371",
   "metadata": {},
   "outputs": [],
   "source": [
    "import pandas as pd\n",
    "from sklearn.model_selection import train_test_split\n",
    "from sklearn.linear_model import LinearRegression\n",
    "from sklearn.metrics import r2_score, mean_squared_error"
   ]
  },
  {
   "cell_type": "code",
   "execution_count": null,
   "id": "c4f87618-d478-48db-8d6e-062942bd7579",
   "metadata": {},
   "outputs": [],
   "source": [
    "#data1 = pd.read_csv(\"DataScientist/raw_data/ds_salaries.csv\")\n",
    "#data2 = pd.read_csv(\"DataScientist/raw_data/data_cleaned_2021.csv\")#\n",
    "data = pd.read_csv(\"DataScientist/raw_data/data_cleaned_2021.csv\")#"
   ]
  },
  {
   "cell_type": "code",
   "execution_count": null,
   "id": "f859762f-5b28-499f-9780-9583f00f21ee",
   "metadata": {},
   "outputs": [],
   "source": [
    "# Création de la matrice de caractéristiques X (tools et skills) et de la variable dépendante y (salaire)\n",
    "X = data[['tools', 'skills']]\n",
    "y = data['salary']"
   ]
  },
  {
   "cell_type": "code",
   "execution_count": null,
   "id": "f783bde7-a044-4b9d-a362-660ab32c2001",
   "metadata": {},
   "outputs": [],
   "source": [
    "# Transformation des variables catégorielles en variables indicatrices si nécessaire\n",
    "X = pd.get_dummies(X)"
   ]
  },
  {
   "cell_type": "code",
   "execution_count": null,
   "id": "ccdd6f48-72c1-4b6b-b52a-fbb2a4f8a06f",
   "metadata": {},
   "outputs": [],
   "source": [
    "# Division des données en ensembles d'entraînement et de test\n",
    "X_train, X_test, y_train, y_test = train_test_split(X, y, test_size=0.2, random_state=42)"
   ]
  },
  {
   "cell_type": "code",
   "execution_count": null,
   "id": "444ff605-c433-46e9-8bc0-ab357e534fdb",
   "metadata": {},
   "outputs": [],
   "source": [
    "# Modélisation avec une régression linéaire\n",
    "model = LinearRegression()\n",
    "model.fit(X_train, y_train)"
   ]
  },
  {
   "cell_type": "code",
   "execution_count": null,
   "id": "ef589bf1-048d-4b8b-970c-90747a5de95d",
   "metadata": {},
   "outputs": [],
   "source": [
    "# Prédictions sur l'ensemble de test\n",
    "y_pred = model.predict(X_test)"
   ]
  },
  {
   "cell_type": "code",
   "execution_count": null,
   "id": "4593737b-4ad1-4ba8-a6e7-d86a4b3e9a29",
   "metadata": {},
   "outputs": [],
   "source": [
    "# Évaluation du modèle\n",
    "r2 = r2_score(y_test, y_pred)\n",
    "rmse = mean_squared_error(y_test, y_pred, squared=False)\n",
    "\n",
    "print(r2)\n",
    "print(rmse)"
   ]
  },
  {
   "cell_type": "code",
   "execution_count": null,
   "id": "3320395b-4ba8-47a2-8466-38eb6409aa3b",
   "metadata": {},
   "outputs": [],
   "source": [
    "# Interprétation des coefficients de régression\n",
    "coefficients = pd.DataFrame({'Variable': X.columns, 'Coefficient': model.coef_})\n",
    "print(coefficients)"
   ]
  },
  {
   "cell_type": "code",
   "execution_count": null,
   "id": "274a7135-3c9a-4f0f-b237-63afc20b99c6",
   "metadata": {},
   "outputs": [],
   "source": []
  }
 ],
 "metadata": {
  "kernelspec": {
   "display_name": "Python 3 (ipykernel)",
   "language": "python",
   "name": "python3"
  },
  "language_info": {
   "codemirror_mode": {
    "name": "ipython",
    "version": 3
   },
   "file_extension": ".py",
   "mimetype": "text/x-python",
   "name": "python",
   "nbconvert_exporter": "python",
   "pygments_lexer": "ipython3",
   "version": "3.10.6"
  }
 },
 "nbformat": 4,
 "nbformat_minor": 5
}
